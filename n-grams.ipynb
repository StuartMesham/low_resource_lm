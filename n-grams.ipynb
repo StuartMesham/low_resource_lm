{
  "nbformat": 4,
  "nbformat_minor": 0,
  "metadata": {
    "colab": {
      "name": "Copy of Copy of Copy of Copy of Low-LM.ipynb",
      "provenance": [],
      "collapsed_sections": []
    },
    "kernelspec": {
      "name": "python3",
      "display_name": "Python 3"
    },
    "accelerator": "GPU"
  },
  "cells": [
    {
      "cell_type": "code",
      "metadata": {
        "id": "DymdIUodeiu3",
        "colab": {
          "base_uri": "https://localhost:8080/"
        },
        "outputId": "a4afad9e-dad0-4102-9068-14c45c87fece"
      },
      "source": [
        "!nvidia-smi"
      ],
      "execution_count": 1,
      "outputs": [
        {
          "output_type": "stream",
          "text": [
            "Thu Mar 18 13:10:17 2021       \n",
            "+-----------------------------------------------------------------------------+\n",
            "| NVIDIA-SMI 460.56       Driver Version: 460.32.03    CUDA Version: 11.2     |\n",
            "|-------------------------------+----------------------+----------------------+\n",
            "| GPU  Name        Persistence-M| Bus-Id        Disp.A | Volatile Uncorr. ECC |\n",
            "| Fan  Temp  Perf  Pwr:Usage/Cap|         Memory-Usage | GPU-Util  Compute M. |\n",
            "|                               |                      |               MIG M. |\n",
            "|===============================+======================+======================|\n",
            "|   0  Tesla K80           Off  | 00000000:00:04.0 Off |                    0 |\n",
            "| N/A   73C    P8    34W / 149W |      0MiB / 11441MiB |      0%      Default |\n",
            "|                               |                      |                  N/A |\n",
            "+-------------------------------+----------------------+----------------------+\n",
            "                                                                               \n",
            "+-----------------------------------------------------------------------------+\n",
            "| Processes:                                                                  |\n",
            "|  GPU   GI   CI        PID   Type   Process name                  GPU Memory |\n",
            "|        ID   ID                                                   Usage      |\n",
            "|=============================================================================|\n",
            "|  No running processes found                                                 |\n",
            "+-----------------------------------------------------------------------------+\n"
          ],
          "name": "stdout"
        }
      ]
    },
    {
      "cell_type": "code",
      "metadata": {
        "id": "fyKY7Q6-hWb6",
        "colab": {
          "base_uri": "https://localhost:8080/"
        },
        "outputId": "afec8ae5-ddec-4954-cdad-b2d6bc83220d"
      },
      "source": [
        "# install KenLM\n",
        "!apt-get install libboost-all-dev\n",
        "!git clone https://github.com/kpu/kenlm.git\n",
        "%cd kenlm/\n",
        "!mkdir -p build\n",
        "%cd build\n",
        "!cmake ..\n",
        "!make -j 4\n",
        "%cd ..\n",
        "!python setup.py install\n",
        "\n",
        "# install nltk?\n",
        "!pip install nltk\n",
        "!python -m nltk.downloader -d /usr/local/share/nltk_data punkt\n",
        "%cd ..\n",
        "\n",
        "!git clone -q https://github.com/StuartMesham/low_resource_lm.git\n",
        "%cd low_resource_lm\n",
        "!git checkout d36ae34284daaeb8afa476be400172a915331636\n",
        "!pip install -qr requirements.txt\n",
        "!./scripts/fetch_data.sh\n",
        "\n",
        "!pip install tokenizers\n",
        "\n",
        "%cd /content/"
      ],
      "execution_count": 2,
      "outputs": [
        {
          "output_type": "stream",
          "text": [
            "Reading package lists... Done\n",
            "Building dependency tree       \n",
            "Reading state information... Done\n",
            "libboost-all-dev is already the newest version (1.65.1.0ubuntu1).\n",
            "0 upgraded, 0 newly installed, 0 to remove and 29 not upgraded.\n",
            "Cloning into 'kenlm'...\n",
            "remote: Enumerating objects: 13687, done.\u001b[K\n",
            "remote: Total 13687 (delta 0), reused 0 (delta 0), pack-reused 13687\u001b[K\n",
            "Receiving objects: 100% (13687/13687), 5.46 MiB | 10.35 MiB/s, done.\n",
            "Resolving deltas: 100% (7880/7880), done.\n",
            "/content/kenlm\n",
            "/content/kenlm/build\n",
            "-- The C compiler identification is GNU 7.5.0\n",
            "-- The CXX compiler identification is GNU 7.5.0\n",
            "-- Check for working C compiler: /usr/bin/cc\n",
            "-- Check for working C compiler: /usr/bin/cc -- works\n",
            "-- Detecting C compiler ABI info\n",
            "-- Detecting C compiler ABI info - done\n",
            "-- Detecting C compile features\n",
            "-- Detecting C compile features - done\n",
            "-- Check for working CXX compiler: /usr/bin/c++\n",
            "-- Check for working CXX compiler: /usr/bin/c++ -- works\n",
            "-- Detecting CXX compiler ABI info\n",
            "-- Detecting CXX compiler ABI info - done\n",
            "-- Detecting CXX compile features\n",
            "-- Detecting CXX compile features - done\n",
            "-- Could NOT find Eigen3 (missing: Eigen3_DIR)\n",
            "-- Looking for pthread.h\n",
            "-- Looking for pthread.h - found\n",
            "-- Looking for pthread_create\n",
            "-- Looking for pthread_create - not found\n",
            "-- Looking for pthread_create in pthreads\n",
            "-- Looking for pthread_create in pthreads - not found\n",
            "-- Looking for pthread_create in pthread\n",
            "-- Looking for pthread_create in pthread - found\n",
            "-- Found Threads: TRUE  \n",
            "-- Boost version: 1.65.1\n",
            "-- Found the following Boost libraries:\n",
            "--   program_options\n",
            "--   system\n",
            "--   thread\n",
            "--   unit_test_framework\n",
            "--   chrono\n",
            "--   date_time\n",
            "--   atomic\n",
            "-- Check if compiler accepts -pthread\n",
            "-- Check if compiler accepts -pthread - yes\n",
            "-- Found ZLIB: /usr/lib/x86_64-linux-gnu/libz.so (found version \"1.2.11\") \n",
            "-- Found BZip2: /usr/lib/x86_64-linux-gnu/libbz2.so (found version \"1.0.6\") \n",
            "-- Looking for BZ2_bzCompressInit\n",
            "-- Looking for BZ2_bzCompressInit - found\n",
            "-- Looking for lzma_auto_decoder in /usr/lib/x86_64-linux-gnu/liblzma.so\n",
            "-- Looking for lzma_auto_decoder in /usr/lib/x86_64-linux-gnu/liblzma.so - found\n",
            "-- Looking for lzma_easy_encoder in /usr/lib/x86_64-linux-gnu/liblzma.so\n",
            "-- Looking for lzma_easy_encoder in /usr/lib/x86_64-linux-gnu/liblzma.so - found\n",
            "-- Looking for lzma_lzma_preset in /usr/lib/x86_64-linux-gnu/liblzma.so\n",
            "-- Looking for lzma_lzma_preset in /usr/lib/x86_64-linux-gnu/liblzma.so - found\n",
            "-- Found LibLZMA: /usr/include (found version \"5.2.2\") \n",
            "-- Looking for clock_gettime in rt\n",
            "-- Looking for clock_gettime in rt - found\n",
            "-- Configuring done\n",
            "-- Generating done\n",
            "-- Build files have been written to: /content/kenlm/build\n",
            "\u001b[35m\u001b[1mScanning dependencies of target kenlm_util\u001b[0m\n",
            "[  1%] \u001b[32mBuilding CXX object util/CMakeFiles/kenlm_util.dir/double-conversion/diy-fp.cc.o\u001b[0m\n",
            "[  2%] \u001b[32mBuilding CXX object util/CMakeFiles/kenlm_util.dir/double-conversion/cached-powers.cc.o\u001b[0m\n",
            "[  3%] \u001b[32mBuilding CXX object util/CMakeFiles/kenlm_util.dir/double-conversion/bignum-dtoa.cc.o\u001b[0m\n",
            "[  5%] \u001b[32mBuilding CXX object util/CMakeFiles/kenlm_util.dir/double-conversion/bignum.cc.o\u001b[0m\n",
            "[  6%] \u001b[32mBuilding CXX object util/CMakeFiles/kenlm_util.dir/double-conversion/double-conversion.cc.o\u001b[0m\n",
            "[  7%] \u001b[32mBuilding CXX object util/CMakeFiles/kenlm_util.dir/double-conversion/fast-dtoa.cc.o\u001b[0m\n",
            "[  8%] \u001b[32mBuilding CXX object util/CMakeFiles/kenlm_util.dir/double-conversion/fixed-dtoa.cc.o\u001b[0m\n",
            "[ 10%] \u001b[32mBuilding CXX object util/CMakeFiles/kenlm_util.dir/double-conversion/strtod.cc.o\u001b[0m\n",
            "[ 11%] \u001b[32mBuilding CXX object util/CMakeFiles/kenlm_util.dir/stream/chain.cc.o\u001b[0m\n",
            "[ 12%] \u001b[32mBuilding CXX object util/CMakeFiles/kenlm_util.dir/stream/count_records.cc.o\u001b[0m\n",
            "[ 13%] \u001b[32mBuilding CXX object util/CMakeFiles/kenlm_util.dir/stream/io.cc.o\u001b[0m\n",
            "[ 15%] \u001b[32mBuilding CXX object util/CMakeFiles/kenlm_util.dir/stream/line_input.cc.o\u001b[0m\n",
            "[ 16%] \u001b[32mBuilding CXX object util/CMakeFiles/kenlm_util.dir/stream/multi_progress.cc.o\u001b[0m\n",
            "[ 17%] \u001b[32mBuilding CXX object util/CMakeFiles/kenlm_util.dir/stream/rewindable_stream.cc.o\u001b[0m\n",
            "[ 18%] \u001b[32mBuilding CXX object util/CMakeFiles/kenlm_util.dir/bit_packing.cc.o\u001b[0m\n",
            "[ 20%] \u001b[32mBuilding CXX object util/CMakeFiles/kenlm_util.dir/ersatz_progress.cc.o\u001b[0m\n",
            "[ 21%] \u001b[32mBuilding CXX object util/CMakeFiles/kenlm_util.dir/exception.cc.o\u001b[0m\n",
            "[ 22%] \u001b[32mBuilding CXX object util/CMakeFiles/kenlm_util.dir/file.cc.o\u001b[0m\n",
            "[ 23%] \u001b[32mBuilding CXX object util/CMakeFiles/kenlm_util.dir/file_piece.cc.o\u001b[0m\n",
            "[ 25%] \u001b[32mBuilding CXX object util/CMakeFiles/kenlm_util.dir/float_to_string.cc.o\u001b[0m\n",
            "[ 26%] \u001b[32mBuilding CXX object util/CMakeFiles/kenlm_util.dir/integer_to_string.cc.o\u001b[0m\n",
            "[ 27%] \u001b[32mBuilding CXX object util/CMakeFiles/kenlm_util.dir/mmap.cc.o\u001b[0m\n",
            "[ 28%] \u001b[32mBuilding CXX object util/CMakeFiles/kenlm_util.dir/murmur_hash.cc.o\u001b[0m\n",
            "[ 30%] \u001b[32mBuilding CXX object util/CMakeFiles/kenlm_util.dir/parallel_read.cc.o\u001b[0m\n",
            "[ 31%] \u001b[32mBuilding CXX object util/CMakeFiles/kenlm_util.dir/pool.cc.o\u001b[0m\n",
            "[ 32%] \u001b[32mBuilding CXX object util/CMakeFiles/kenlm_util.dir/read_compressed.cc.o\u001b[0m\n",
            "[ 33%] \u001b[32mBuilding CXX object util/CMakeFiles/kenlm_util.dir/scoped.cc.o\u001b[0m\n",
            "[ 35%] \u001b[32mBuilding CXX object util/CMakeFiles/kenlm_util.dir/spaces.cc.o\u001b[0m\n",
            "[ 36%] \u001b[32mBuilding CXX object util/CMakeFiles/kenlm_util.dir/string_piece.cc.o\u001b[0m\n",
            "[ 37%] \u001b[32mBuilding CXX object util/CMakeFiles/kenlm_util.dir/usage.cc.o\u001b[0m\n",
            "[ 38%] \u001b[32m\u001b[1mLinking CXX static library ../lib/libkenlm_util.a\u001b[0m\n",
            "[ 38%] Built target kenlm_util\n",
            "\u001b[35m\u001b[1mScanning dependencies of target kenlm_filter\u001b[0m\n",
            "\u001b[35m\u001b[1mScanning dependencies of target probing_hash_table_benchmark\u001b[0m\n",
            "\u001b[35m\u001b[1mScanning dependencies of target kenlm\u001b[0m\n",
            "[ 40%] \u001b[32mBuilding CXX object lm/filter/CMakeFiles/kenlm_filter.dir/phrase.cc.o\u001b[0m\n",
            "[ 41%] \u001b[32mBuilding CXX object lm/filter/CMakeFiles/kenlm_filter.dir/arpa_io.cc.o\u001b[0m\n",
            "[ 42%] \u001b[32mBuilding CXX object util/CMakeFiles/probing_hash_table_benchmark.dir/probing_hash_table_benchmark_main.cc.o\u001b[0m\n",
            "[ 43%] \u001b[32mBuilding CXX object lm/CMakeFiles/kenlm.dir/bhiksha.cc.o\u001b[0m\n",
            "[ 45%] \u001b[32mBuilding CXX object lm/CMakeFiles/kenlm.dir/binary_format.cc.o\u001b[0m\n",
            "[ 46%] \u001b[32mBuilding CXX object lm/filter/CMakeFiles/kenlm_filter.dir/vocab.cc.o\u001b[0m\n",
            "[ 47%] \u001b[32mBuilding CXX object lm/CMakeFiles/kenlm.dir/config.cc.o\u001b[0m\n",
            "[ 48%] \u001b[32mBuilding CXX object lm/CMakeFiles/kenlm.dir/lm_exception.cc.o\u001b[0m\n",
            "[ 50%] \u001b[32mBuilding CXX object lm/CMakeFiles/kenlm.dir/model.cc.o\u001b[0m\n",
            "[ 51%] \u001b[32mBuilding CXX object lm/CMakeFiles/kenlm.dir/quantize.cc.o\u001b[0m\n",
            "[ 52%] \u001b[32m\u001b[1mLinking CXX static library ../../lib/libkenlm_filter.a\u001b[0m\n",
            "[ 52%] Built target kenlm_filter\n",
            "[ 53%] \u001b[32mBuilding CXX object lm/CMakeFiles/kenlm.dir/read_arpa.cc.o\u001b[0m\n",
            "[ 55%] \u001b[32mBuilding CXX object lm/CMakeFiles/kenlm.dir/search_hashed.cc.o\u001b[0m\n",
            "[ 56%] \u001b[32mBuilding CXX object lm/CMakeFiles/kenlm.dir/search_trie.cc.o\u001b[0m\n",
            "[ 57%] \u001b[32mBuilding CXX object lm/CMakeFiles/kenlm.dir/sizes.cc.o\u001b[0m\n",
            "[ 58%] \u001b[32mBuilding CXX object lm/CMakeFiles/kenlm.dir/trie.cc.o\u001b[0m\n",
            "[ 60%] \u001b[32mBuilding CXX object lm/CMakeFiles/kenlm.dir/trie_sort.cc.o\u001b[0m\n",
            "[ 61%] \u001b[32m\u001b[1mLinking CXX executable ../bin/probing_hash_table_benchmark\u001b[0m\n",
            "[ 61%] Built target probing_hash_table_benchmark\n",
            "[ 62%] \u001b[32mBuilding CXX object lm/CMakeFiles/kenlm.dir/value_build.cc.o\u001b[0m\n",
            "[ 63%] \u001b[32mBuilding CXX object lm/CMakeFiles/kenlm.dir/virtual_interface.cc.o\u001b[0m\n",
            "[ 65%] \u001b[32mBuilding CXX object lm/CMakeFiles/kenlm.dir/vocab.cc.o\u001b[0m\n",
            "[ 66%] \u001b[32mBuilding CXX object lm/CMakeFiles/kenlm.dir/common/model_buffer.cc.o\u001b[0m\n",
            "[ 67%] \u001b[32mBuilding CXX object lm/CMakeFiles/kenlm.dir/common/print.cc.o\u001b[0m\n",
            "[ 68%] \u001b[32mBuilding CXX object lm/CMakeFiles/kenlm.dir/common/renumber.cc.o\u001b[0m\n",
            "[ 70%] \u001b[32mBuilding CXX object lm/CMakeFiles/kenlm.dir/common/size_option.cc.o\u001b[0m\n",
            "[ 71%] \u001b[32m\u001b[1mLinking CXX static library ../lib/libkenlm.a\u001b[0m\n",
            "[ 71%] Built target kenlm\n",
            "\u001b[35m\u001b[1mScanning dependencies of target build_binary\u001b[0m\n",
            "\u001b[35m\u001b[1mScanning dependencies of target kenlm_benchmark\u001b[0m\n",
            "\u001b[35m\u001b[1mScanning dependencies of target query\u001b[0m\n",
            "\u001b[35m\u001b[1mScanning dependencies of target fragment\u001b[0m\n",
            "[ 72%] \u001b[32mBuilding CXX object lm/CMakeFiles/kenlm_benchmark.dir/kenlm_benchmark_main.cc.o\u001b[0m\n",
            "[ 73%] \u001b[32mBuilding CXX object lm/CMakeFiles/build_binary.dir/build_binary_main.cc.o\u001b[0m\n",
            "[ 75%] \u001b[32mBuilding CXX object lm/CMakeFiles/query.dir/query_main.cc.o\u001b[0m\n",
            "[ 76%] \u001b[32mBuilding CXX object lm/CMakeFiles/fragment.dir/fragment_main.cc.o\u001b[0m\n",
            "[ 77%] \u001b[32m\u001b[1mLinking CXX executable ../bin/fragment\u001b[0m\n",
            "[ 78%] \u001b[32m\u001b[1mLinking CXX executable ../bin/build_binary\u001b[0m\n",
            "[ 78%] Built target fragment\n",
            "\u001b[35m\u001b[1mScanning dependencies of target kenlm_builder\u001b[0m\n",
            "[ 80%] \u001b[32mBuilding CXX object lm/builder/CMakeFiles/kenlm_builder.dir/adjust_counts.cc.o\u001b[0m\n",
            "[ 80%] Built target build_binary\n",
            "[ 81%] \u001b[32mBuilding CXX object lm/builder/CMakeFiles/kenlm_builder.dir/corpus_count.cc.o\u001b[0m\n",
            "[ 82%] \u001b[32m\u001b[1mLinking CXX executable ../bin/query\u001b[0m\n",
            "[ 82%] Built target query\n",
            "\u001b[35m\u001b[1mScanning dependencies of target phrase_table_vocab\u001b[0m\n",
            "[ 83%] \u001b[32mBuilding CXX object lm/filter/CMakeFiles/phrase_table_vocab.dir/phrase_table_vocab_main.cc.o\u001b[0m\n",
            "[ 85%] \u001b[32mBuilding CXX object lm/builder/CMakeFiles/kenlm_builder.dir/initial_probabilities.cc.o\u001b[0m\n",
            "[ 86%] \u001b[32m\u001b[1mLinking CXX executable ../../bin/phrase_table_vocab\u001b[0m\n",
            "\u001b[35m\u001b[1mScanning dependencies of target filter\u001b[0m\n",
            "[ 87%] \u001b[32mBuilding CXX object lm/filter/CMakeFiles/filter.dir/filter_main.cc.o\u001b[0m\n",
            "[ 87%] Built target phrase_table_vocab\n",
            "[ 88%] \u001b[32mBuilding CXX object lm/builder/CMakeFiles/kenlm_builder.dir/interpolate.cc.o\u001b[0m\n",
            "[ 90%] \u001b[32mBuilding CXX object lm/builder/CMakeFiles/kenlm_builder.dir/output.cc.o\u001b[0m\n",
            "[ 91%] \u001b[32mBuilding CXX object lm/builder/CMakeFiles/kenlm_builder.dir/pipeline.cc.o\u001b[0m\n",
            "[ 92%] \u001b[32m\u001b[1mLinking CXX executable ../bin/kenlm_benchmark\u001b[0m\n",
            "[ 92%] Built target kenlm_benchmark\n",
            "[ 93%] \u001b[32m\u001b[1mLinking CXX static library ../../lib/libkenlm_builder.a\u001b[0m\n",
            "[ 93%] Built target kenlm_builder\n",
            "\u001b[35m\u001b[1mScanning dependencies of target lmplz\u001b[0m\n",
            "\u001b[35m\u001b[1mScanning dependencies of target count_ngrams\u001b[0m\n",
            "[ 95%] \u001b[32mBuilding CXX object lm/builder/CMakeFiles/count_ngrams.dir/count_ngrams_main.cc.o\u001b[0m\n",
            "[ 96%] \u001b[32mBuilding CXX object lm/builder/CMakeFiles/lmplz.dir/lmplz_main.cc.o\u001b[0m\n",
            "[ 97%] \u001b[32m\u001b[1mLinking CXX executable ../../bin/filter\u001b[0m\n",
            "[ 97%] Built target filter\n",
            "[ 98%] \u001b[32m\u001b[1mLinking CXX executable ../../bin/lmplz\u001b[0m\n",
            "[ 98%] Built target lmplz\n",
            "[100%] \u001b[32m\u001b[1mLinking CXX executable ../../bin/count_ngrams\u001b[0m\n",
            "[100%] Built target count_ngrams\n",
            "/content/kenlm\n",
            "running install\n",
            "running bdist_egg\n",
            "running egg_info\n",
            "creating kenlm.egg-info\n",
            "writing kenlm.egg-info/PKG-INFO\n",
            "writing dependency_links to kenlm.egg-info/dependency_links.txt\n",
            "writing top-level names to kenlm.egg-info/top_level.txt\n",
            "writing manifest file 'kenlm.egg-info/SOURCES.txt'\n",
            "reading manifest template 'MANIFEST.in'\n",
            "writing manifest file 'kenlm.egg-info/SOURCES.txt'\n",
            "installing library code to build/bdist.linux-x86_64/egg\n",
            "running install_lib\n",
            "running build_ext\n",
            "building 'kenlm' extension\n",
            "creating build/temp.linux-x86_64-3.7\n",
            "creating build/temp.linux-x86_64-3.7/util\n",
            "creating build/temp.linux-x86_64-3.7/lm\n",
            "creating build/temp.linux-x86_64-3.7/util/double-conversion\n",
            "creating build/temp.linux-x86_64-3.7/python\n",
            "x86_64-linux-gnu-gcc -pthread -Wno-unused-result -Wsign-compare -DNDEBUG -g -fwrapv -O2 -Wall -g -fdebug-prefix-map=/build/python3.7-a56wZI/python3.7-3.7.10=. -fstack-protector-strong -Wformat -Werror=format-security -g -fdebug-prefix-map=/build/python3.7-a56wZI/python3.7-3.7.10=. -fstack-protector-strong -Wformat -Werror=format-security -Wdate-time -D_FORTIFY_SOURCE=2 -fPIC -I. -I/usr/include/python3.7m -c util/read_compressed.cc -o build/temp.linux-x86_64-3.7/util/read_compressed.o -O3 -DNDEBUG -DKENLM_MAX_ORDER=6 -std=c++11 -DHAVE_ZLIB -DHAVE_BZLIB -DHAVE_XZLIB\n",
            "x86_64-linux-gnu-gcc -pthread -Wno-unused-result -Wsign-compare -DNDEBUG -g -fwrapv -O2 -Wall -g -fdebug-prefix-map=/build/python3.7-a56wZI/python3.7-3.7.10=. -fstack-protector-strong -Wformat -Werror=format-security -g -fdebug-prefix-map=/build/python3.7-a56wZI/python3.7-3.7.10=. -fstack-protector-strong -Wformat -Werror=format-security -Wdate-time -D_FORTIFY_SOURCE=2 -fPIC -I. -I/usr/include/python3.7m -c util/float_to_string.cc -o build/temp.linux-x86_64-3.7/util/float_to_string.o -O3 -DNDEBUG -DKENLM_MAX_ORDER=6 -std=c++11 -DHAVE_ZLIB -DHAVE_BZLIB -DHAVE_XZLIB\n",
            "x86_64-linux-gnu-gcc -pthread -Wno-unused-result -Wsign-compare -DNDEBUG -g -fwrapv -O2 -Wall -g -fdebug-prefix-map=/build/python3.7-a56wZI/python3.7-3.7.10=. -fstack-protector-strong -Wformat -Werror=format-security -g -fdebug-prefix-map=/build/python3.7-a56wZI/python3.7-3.7.10=. -fstack-protector-strong -Wformat -Werror=format-security -Wdate-time -D_FORTIFY_SOURCE=2 -fPIC -I. -I/usr/include/python3.7m -c util/string_piece.cc -o build/temp.linux-x86_64-3.7/util/string_piece.o -O3 -DNDEBUG -DKENLM_MAX_ORDER=6 -std=c++11 -DHAVE_ZLIB -DHAVE_BZLIB -DHAVE_XZLIB\n",
            "x86_64-linux-gnu-gcc -pthread -Wno-unused-result -Wsign-compare -DNDEBUG -g -fwrapv -O2 -Wall -g -fdebug-prefix-map=/build/python3.7-a56wZI/python3.7-3.7.10=. -fstack-protector-strong -Wformat -Werror=format-security -g -fdebug-prefix-map=/build/python3.7-a56wZI/python3.7-3.7.10=. -fstack-protector-strong -Wformat -Werror=format-security -Wdate-time -D_FORTIFY_SOURCE=2 -fPIC -I. -I/usr/include/python3.7m -c util/mmap.cc -o build/temp.linux-x86_64-3.7/util/mmap.o -O3 -DNDEBUG -DKENLM_MAX_ORDER=6 -std=c++11 -DHAVE_ZLIB -DHAVE_BZLIB -DHAVE_XZLIB\n",
            "x86_64-linux-gnu-gcc -pthread -Wno-unused-result -Wsign-compare -DNDEBUG -g -fwrapv -O2 -Wall -g -fdebug-prefix-map=/build/python3.7-a56wZI/python3.7-3.7.10=. -fstack-protector-strong -Wformat -Werror=format-security -g -fdebug-prefix-map=/build/python3.7-a56wZI/python3.7-3.7.10=. -fstack-protector-strong -Wformat -Werror=format-security -Wdate-time -D_FORTIFY_SOURCE=2 -fPIC -I. -I/usr/include/python3.7m -c util/file_piece.cc -o build/temp.linux-x86_64-3.7/util/file_piece.o -O3 -DNDEBUG -DKENLM_MAX_ORDER=6 -std=c++11 -DHAVE_ZLIB -DHAVE_BZLIB -DHAVE_XZLIB\n",
            "x86_64-linux-gnu-gcc -pthread -Wno-unused-result -Wsign-compare -DNDEBUG -g -fwrapv -O2 -Wall -g -fdebug-prefix-map=/build/python3.7-a56wZI/python3.7-3.7.10=. -fstack-protector-strong -Wformat -Werror=format-security -g -fdebug-prefix-map=/build/python3.7-a56wZI/python3.7-3.7.10=. -fstack-protector-strong -Wformat -Werror=format-security -Wdate-time -D_FORTIFY_SOURCE=2 -fPIC -I. -I/usr/include/python3.7m -c util/bit_packing.cc -o build/temp.linux-x86_64-3.7/util/bit_packing.o -O3 -DNDEBUG -DKENLM_MAX_ORDER=6 -std=c++11 -DHAVE_ZLIB -DHAVE_BZLIB -DHAVE_XZLIB\n",
            "x86_64-linux-gnu-gcc -pthread -Wno-unused-result -Wsign-compare -DNDEBUG -g -fwrapv -O2 -Wall -g -fdebug-prefix-map=/build/python3.7-a56wZI/python3.7-3.7.10=. -fstack-protector-strong -Wformat -Werror=format-security -g -fdebug-prefix-map=/build/python3.7-a56wZI/python3.7-3.7.10=. -fstack-protector-strong -Wformat -Werror=format-security -Wdate-time -D_FORTIFY_SOURCE=2 -fPIC -I. -I/usr/include/python3.7m -c util/murmur_hash.cc -o build/temp.linux-x86_64-3.7/util/murmur_hash.o -O3 -DNDEBUG -DKENLM_MAX_ORDER=6 -std=c++11 -DHAVE_ZLIB -DHAVE_BZLIB -DHAVE_XZLIB\n",
            "x86_64-linux-gnu-gcc -pthread -Wno-unused-result -Wsign-compare -DNDEBUG -g -fwrapv -O2 -Wall -g -fdebug-prefix-map=/build/python3.7-a56wZI/python3.7-3.7.10=. -fstack-protector-strong -Wformat -Werror=format-security -g -fdebug-prefix-map=/build/python3.7-a56wZI/python3.7-3.7.10=. -fstack-protector-strong -Wformat -Werror=format-security -Wdate-time -D_FORTIFY_SOURCE=2 -fPIC -I. -I/usr/include/python3.7m -c util/exception.cc -o build/temp.linux-x86_64-3.7/util/exception.o -O3 -DNDEBUG -DKENLM_MAX_ORDER=6 -std=c++11 -DHAVE_ZLIB -DHAVE_BZLIB -DHAVE_XZLIB\n",
            "x86_64-linux-gnu-gcc -pthread -Wno-unused-result -Wsign-compare -DNDEBUG -g -fwrapv -O2 -Wall -g -fdebug-prefix-map=/build/python3.7-a56wZI/python3.7-3.7.10=. -fstack-protector-strong -Wformat -Werror=format-security -g -fdebug-prefix-map=/build/python3.7-a56wZI/python3.7-3.7.10=. -fstack-protector-strong -Wformat -Werror=format-security -Wdate-time -D_FORTIFY_SOURCE=2 -fPIC -I. -I/usr/include/python3.7m -c util/usage.cc -o build/temp.linux-x86_64-3.7/util/usage.o -O3 -DNDEBUG -DKENLM_MAX_ORDER=6 -std=c++11 -DHAVE_ZLIB -DHAVE_BZLIB -DHAVE_XZLIB\n",
            "\u001b[01m\u001b[Kutil/usage.cc:\u001b[m\u001b[K In function ‘\u001b[01m\u001b[Kdouble util::ThreadTime()\u001b[m\u001b[K’:\n",
            "\u001b[01m\u001b[Kutil/usage.cc:185:1:\u001b[m\u001b[K \u001b[01;35m\u001b[Kwarning: \u001b[m\u001b[Kno return statement in function returning non-void [\u001b[01;35m\u001b[K-Wreturn-type\u001b[m\u001b[K]\n",
            " \u001b[01;35m\u001b[K}\u001b[m\u001b[K\n",
            " \u001b[01;35m\u001b[K^\u001b[m\u001b[K\n",
            "x86_64-linux-gnu-gcc -pthread -Wno-unused-result -Wsign-compare -DNDEBUG -g -fwrapv -O2 -Wall -g -fdebug-prefix-map=/build/python3.7-a56wZI/python3.7-3.7.10=. -fstack-protector-strong -Wformat -Werror=format-security -g -fdebug-prefix-map=/build/python3.7-a56wZI/python3.7-3.7.10=. -fstack-protector-strong -Wformat -Werror=format-security -Wdate-time -D_FORTIFY_SOURCE=2 -fPIC -I. -I/usr/include/python3.7m -c util/ersatz_progress.cc -o build/temp.linux-x86_64-3.7/util/ersatz_progress.o -O3 -DNDEBUG -DKENLM_MAX_ORDER=6 -std=c++11 -DHAVE_ZLIB -DHAVE_BZLIB -DHAVE_XZLIB\n",
            "x86_64-linux-gnu-gcc -pthread -Wno-unused-result -Wsign-compare -DNDEBUG -g -fwrapv -O2 -Wall -g -fdebug-prefix-map=/build/python3.7-a56wZI/python3.7-3.7.10=. -fstack-protector-strong -Wformat -Werror=format-security -g -fdebug-prefix-map=/build/python3.7-a56wZI/python3.7-3.7.10=. -fstack-protector-strong -Wformat -Werror=format-security -Wdate-time -D_FORTIFY_SOURCE=2 -fPIC -I. -I/usr/include/python3.7m -c util/parallel_read.cc -o build/temp.linux-x86_64-3.7/util/parallel_read.o -O3 -DNDEBUG -DKENLM_MAX_ORDER=6 -std=c++11 -DHAVE_ZLIB -DHAVE_BZLIB -DHAVE_XZLIB\n",
            "x86_64-linux-gnu-gcc -pthread -Wno-unused-result -Wsign-compare -DNDEBUG -g -fwrapv -O2 -Wall -g -fdebug-prefix-map=/build/python3.7-a56wZI/python3.7-3.7.10=. -fstack-protector-strong -Wformat -Werror=format-security -g -fdebug-prefix-map=/build/python3.7-a56wZI/python3.7-3.7.10=. -fstack-protector-strong -Wformat -Werror=format-security -Wdate-time -D_FORTIFY_SOURCE=2 -fPIC -I. -I/usr/include/python3.7m -c util/file.cc -o build/temp.linux-x86_64-3.7/util/file.o -O3 -DNDEBUG -DKENLM_MAX_ORDER=6 -std=c++11 -DHAVE_ZLIB -DHAVE_BZLIB -DHAVE_XZLIB\n",
            "x86_64-linux-gnu-gcc -pthread -Wno-unused-result -Wsign-compare -DNDEBUG -g -fwrapv -O2 -Wall -g -fdebug-prefix-map=/build/python3.7-a56wZI/python3.7-3.7.10=. -fstack-protector-strong -Wformat -Werror=format-security -g -fdebug-prefix-map=/build/python3.7-a56wZI/python3.7-3.7.10=. -fstack-protector-strong -Wformat -Werror=format-security -Wdate-time -D_FORTIFY_SOURCE=2 -fPIC -I. -I/usr/include/python3.7m -c util/scoped.cc -o build/temp.linux-x86_64-3.7/util/scoped.o -O3 -DNDEBUG -DKENLM_MAX_ORDER=6 -std=c++11 -DHAVE_ZLIB -DHAVE_BZLIB -DHAVE_XZLIB\n",
            "x86_64-linux-gnu-gcc -pthread -Wno-unused-result -Wsign-compare -DNDEBUG -g -fwrapv -O2 -Wall -g -fdebug-prefix-map=/build/python3.7-a56wZI/python3.7-3.7.10=. -fstack-protector-strong -Wformat -Werror=format-security -g -fdebug-prefix-map=/build/python3.7-a56wZI/python3.7-3.7.10=. -fstack-protector-strong -Wformat -Werror=format-security -Wdate-time -D_FORTIFY_SOURCE=2 -fPIC -I. -I/usr/include/python3.7m -c util/pool.cc -o build/temp.linux-x86_64-3.7/util/pool.o -O3 -DNDEBUG -DKENLM_MAX_ORDER=6 -std=c++11 -DHAVE_ZLIB -DHAVE_BZLIB -DHAVE_XZLIB\n",
            "x86_64-linux-gnu-gcc -pthread -Wno-unused-result -Wsign-compare -DNDEBUG -g -fwrapv -O2 -Wall -g -fdebug-prefix-map=/build/python3.7-a56wZI/python3.7-3.7.10=. -fstack-protector-strong -Wformat -Werror=format-security -g -fdebug-prefix-map=/build/python3.7-a56wZI/python3.7-3.7.10=. -fstack-protector-strong -Wformat -Werror=format-security -Wdate-time -D_FORTIFY_SOURCE=2 -fPIC -I. -I/usr/include/python3.7m -c util/spaces.cc -o build/temp.linux-x86_64-3.7/util/spaces.o -O3 -DNDEBUG -DKENLM_MAX_ORDER=6 -std=c++11 -DHAVE_ZLIB -DHAVE_BZLIB -DHAVE_XZLIB\n",
            "x86_64-linux-gnu-gcc -pthread -Wno-unused-result -Wsign-compare -DNDEBUG -g -fwrapv -O2 -Wall -g -fdebug-prefix-map=/build/python3.7-a56wZI/python3.7-3.7.10=. -fstack-protector-strong -Wformat -Werror=format-security -g -fdebug-prefix-map=/build/python3.7-a56wZI/python3.7-3.7.10=. -fstack-protector-strong -Wformat -Werror=format-security -Wdate-time -D_FORTIFY_SOURCE=2 -fPIC -I. -I/usr/include/python3.7m -c util/integer_to_string.cc -o build/temp.linux-x86_64-3.7/util/integer_to_string.o -O3 -DNDEBUG -DKENLM_MAX_ORDER=6 -std=c++11 -DHAVE_ZLIB -DHAVE_BZLIB -DHAVE_XZLIB\n",
            "x86_64-linux-gnu-gcc -pthread -Wno-unused-result -Wsign-compare -DNDEBUG -g -fwrapv -O2 -Wall -g -fdebug-prefix-map=/build/python3.7-a56wZI/python3.7-3.7.10=. -fstack-protector-strong -Wformat -Werror=format-security -g -fdebug-prefix-map=/build/python3.7-a56wZI/python3.7-3.7.10=. -fstack-protector-strong -Wformat -Werror=format-security -Wdate-time -D_FORTIFY_SOURCE=2 -fPIC -I. -I/usr/include/python3.7m -c lm/search_trie.cc -o build/temp.linux-x86_64-3.7/lm/search_trie.o -O3 -DNDEBUG -DKENLM_MAX_ORDER=6 -std=c++11 -DHAVE_ZLIB -DHAVE_BZLIB -DHAVE_XZLIB\n",
            "x86_64-linux-gnu-gcc -pthread -Wno-unused-result -Wsign-compare -DNDEBUG -g -fwrapv -O2 -Wall -g -fdebug-prefix-map=/build/python3.7-a56wZI/python3.7-3.7.10=. -fstack-protector-strong -Wformat -Werror=format-security -g -fdebug-prefix-map=/build/python3.7-a56wZI/python3.7-3.7.10=. -fstack-protector-strong -Wformat -Werror=format-security -Wdate-time -D_FORTIFY_SOURCE=2 -fPIC -I. -I/usr/include/python3.7m -c lm/model.cc -o build/temp.linux-x86_64-3.7/lm/model.o -O3 -DNDEBUG -DKENLM_MAX_ORDER=6 -std=c++11 -DHAVE_ZLIB -DHAVE_BZLIB -DHAVE_XZLIB\n",
            "x86_64-linux-gnu-gcc -pthread -Wno-unused-result -Wsign-compare -DNDEBUG -g -fwrapv -O2 -Wall -g -fdebug-prefix-map=/build/python3.7-a56wZI/python3.7-3.7.10=. -fstack-protector-strong -Wformat -Werror=format-security -g -fdebug-prefix-map=/build/python3.7-a56wZI/python3.7-3.7.10=. -fstack-protector-strong -Wformat -Werror=format-security -Wdate-time -D_FORTIFY_SOURCE=2 -fPIC -I. -I/usr/include/python3.7m -c lm/bhiksha.cc -o build/temp.linux-x86_64-3.7/lm/bhiksha.o -O3 -DNDEBUG -DKENLM_MAX_ORDER=6 -std=c++11 -DHAVE_ZLIB -DHAVE_BZLIB -DHAVE_XZLIB\n",
            "x86_64-linux-gnu-gcc -pthread -Wno-unused-result -Wsign-compare -DNDEBUG -g -fwrapv -O2 -Wall -g -fdebug-prefix-map=/build/python3.7-a56wZI/python3.7-3.7.10=. -fstack-protector-strong -Wformat -Werror=format-security -g -fdebug-prefix-map=/build/python3.7-a56wZI/python3.7-3.7.10=. -fstack-protector-strong -Wformat -Werror=format-security -Wdate-time -D_FORTIFY_SOURCE=2 -fPIC -I. -I/usr/include/python3.7m -c lm/binary_format.cc -o build/temp.linux-x86_64-3.7/lm/binary_format.o -O3 -DNDEBUG -DKENLM_MAX_ORDER=6 -std=c++11 -DHAVE_ZLIB -DHAVE_BZLIB -DHAVE_XZLIB\n",
            "x86_64-linux-gnu-gcc -pthread -Wno-unused-result -Wsign-compare -DNDEBUG -g -fwrapv -O2 -Wall -g -fdebug-prefix-map=/build/python3.7-a56wZI/python3.7-3.7.10=. -fstack-protector-strong -Wformat -Werror=format-security -g -fdebug-prefix-map=/build/python3.7-a56wZI/python3.7-3.7.10=. -fstack-protector-strong -Wformat -Werror=format-security -Wdate-time -D_FORTIFY_SOURCE=2 -fPIC -I. -I/usr/include/python3.7m -c lm/value_build.cc -o build/temp.linux-x86_64-3.7/lm/value_build.o -O3 -DNDEBUG -DKENLM_MAX_ORDER=6 -std=c++11 -DHAVE_ZLIB -DHAVE_BZLIB -DHAVE_XZLIB\n",
            "x86_64-linux-gnu-gcc -pthread -Wno-unused-result -Wsign-compare -DNDEBUG -g -fwrapv -O2 -Wall -g -fdebug-prefix-map=/build/python3.7-a56wZI/python3.7-3.7.10=. -fstack-protector-strong -Wformat -Werror=format-security -g -fdebug-prefix-map=/build/python3.7-a56wZI/python3.7-3.7.10=. -fstack-protector-strong -Wformat -Werror=format-security -Wdate-time -D_FORTIFY_SOURCE=2 -fPIC -I. -I/usr/include/python3.7m -c lm/lm_exception.cc -o build/temp.linux-x86_64-3.7/lm/lm_exception.o -O3 -DNDEBUG -DKENLM_MAX_ORDER=6 -std=c++11 -DHAVE_ZLIB -DHAVE_BZLIB -DHAVE_XZLIB\n",
            "x86_64-linux-gnu-gcc -pthread -Wno-unused-result -Wsign-compare -DNDEBUG -g -fwrapv -O2 -Wall -g -fdebug-prefix-map=/build/python3.7-a56wZI/python3.7-3.7.10=. -fstack-protector-strong -Wformat -Werror=format-security -g -fdebug-prefix-map=/build/python3.7-a56wZI/python3.7-3.7.10=. -fstack-protector-strong -Wformat -Werror=format-security -Wdate-time -D_FORTIFY_SOURCE=2 -fPIC -I. -I/usr/include/python3.7m -c lm/trie_sort.cc -o build/temp.linux-x86_64-3.7/lm/trie_sort.o -O3 -DNDEBUG -DKENLM_MAX_ORDER=6 -std=c++11 -DHAVE_ZLIB -DHAVE_BZLIB -DHAVE_XZLIB\n",
            "x86_64-linux-gnu-gcc -pthread -Wno-unused-result -Wsign-compare -DNDEBUG -g -fwrapv -O2 -Wall -g -fdebug-prefix-map=/build/python3.7-a56wZI/python3.7-3.7.10=. -fstack-protector-strong -Wformat -Werror=format-security -g -fdebug-prefix-map=/build/python3.7-a56wZI/python3.7-3.7.10=. -fstack-protector-strong -Wformat -Werror=format-security -Wdate-time -D_FORTIFY_SOURCE=2 -fPIC -I. -I/usr/include/python3.7m -c lm/read_arpa.cc -o build/temp.linux-x86_64-3.7/lm/read_arpa.o -O3 -DNDEBUG -DKENLM_MAX_ORDER=6 -std=c++11 -DHAVE_ZLIB -DHAVE_BZLIB -DHAVE_XZLIB\n",
            "x86_64-linux-gnu-gcc -pthread -Wno-unused-result -Wsign-compare -DNDEBUG -g -fwrapv -O2 -Wall -g -fdebug-prefix-map=/build/python3.7-a56wZI/python3.7-3.7.10=. -fstack-protector-strong -Wformat -Werror=format-security -g -fdebug-prefix-map=/build/python3.7-a56wZI/python3.7-3.7.10=. -fstack-protector-strong -Wformat -Werror=format-security -Wdate-time -D_FORTIFY_SOURCE=2 -fPIC -I. -I/usr/include/python3.7m -c lm/trie.cc -o build/temp.linux-x86_64-3.7/lm/trie.o -O3 -DNDEBUG -DKENLM_MAX_ORDER=6 -std=c++11 -DHAVE_ZLIB -DHAVE_BZLIB -DHAVE_XZLIB\n",
            "x86_64-linux-gnu-gcc -pthread -Wno-unused-result -Wsign-compare -DNDEBUG -g -fwrapv -O2 -Wall -g -fdebug-prefix-map=/build/python3.7-a56wZI/python3.7-3.7.10=. -fstack-protector-strong -Wformat -Werror=format-security -g -fdebug-prefix-map=/build/python3.7-a56wZI/python3.7-3.7.10=. -fstack-protector-strong -Wformat -Werror=format-security -Wdate-time -D_FORTIFY_SOURCE=2 -fPIC -I. -I/usr/include/python3.7m -c lm/quantize.cc -o build/temp.linux-x86_64-3.7/lm/quantize.o -O3 -DNDEBUG -DKENLM_MAX_ORDER=6 -std=c++11 -DHAVE_ZLIB -DHAVE_BZLIB -DHAVE_XZLIB\n",
            "x86_64-linux-gnu-gcc -pthread -Wno-unused-result -Wsign-compare -DNDEBUG -g -fwrapv -O2 -Wall -g -fdebug-prefix-map=/build/python3.7-a56wZI/python3.7-3.7.10=. -fstack-protector-strong -Wformat -Werror=format-security -g -fdebug-prefix-map=/build/python3.7-a56wZI/python3.7-3.7.10=. -fstack-protector-strong -Wformat -Werror=format-security -Wdate-time -D_FORTIFY_SOURCE=2 -fPIC -I. -I/usr/include/python3.7m -c lm/config.cc -o build/temp.linux-x86_64-3.7/lm/config.o -O3 -DNDEBUG -DKENLM_MAX_ORDER=6 -std=c++11 -DHAVE_ZLIB -DHAVE_BZLIB -DHAVE_XZLIB\n",
            "x86_64-linux-gnu-gcc -pthread -Wno-unused-result -Wsign-compare -DNDEBUG -g -fwrapv -O2 -Wall -g -fdebug-prefix-map=/build/python3.7-a56wZI/python3.7-3.7.10=. -fstack-protector-strong -Wformat -Werror=format-security -g -fdebug-prefix-map=/build/python3.7-a56wZI/python3.7-3.7.10=. -fstack-protector-strong -Wformat -Werror=format-security -Wdate-time -D_FORTIFY_SOURCE=2 -fPIC -I. -I/usr/include/python3.7m -c lm/virtual_interface.cc -o build/temp.linux-x86_64-3.7/lm/virtual_interface.o -O3 -DNDEBUG -DKENLM_MAX_ORDER=6 -std=c++11 -DHAVE_ZLIB -DHAVE_BZLIB -DHAVE_XZLIB\n",
            "x86_64-linux-gnu-gcc -pthread -Wno-unused-result -Wsign-compare -DNDEBUG -g -fwrapv -O2 -Wall -g -fdebug-prefix-map=/build/python3.7-a56wZI/python3.7-3.7.10=. -fstack-protector-strong -Wformat -Werror=format-security -g -fdebug-prefix-map=/build/python3.7-a56wZI/python3.7-3.7.10=. -fstack-protector-strong -Wformat -Werror=format-security -Wdate-time -D_FORTIFY_SOURCE=2 -fPIC -I. -I/usr/include/python3.7m -c lm/search_hashed.cc -o build/temp.linux-x86_64-3.7/lm/search_hashed.o -O3 -DNDEBUG -DKENLM_MAX_ORDER=6 -std=c++11 -DHAVE_ZLIB -DHAVE_BZLIB -DHAVE_XZLIB\n",
            "x86_64-linux-gnu-gcc -pthread -Wno-unused-result -Wsign-compare -DNDEBUG -g -fwrapv -O2 -Wall -g -fdebug-prefix-map=/build/python3.7-a56wZI/python3.7-3.7.10=. -fstack-protector-strong -Wformat -Werror=format-security -g -fdebug-prefix-map=/build/python3.7-a56wZI/python3.7-3.7.10=. -fstack-protector-strong -Wformat -Werror=format-security -Wdate-time -D_FORTIFY_SOURCE=2 -fPIC -I. -I/usr/include/python3.7m -c lm/vocab.cc -o build/temp.linux-x86_64-3.7/lm/vocab.o -O3 -DNDEBUG -DKENLM_MAX_ORDER=6 -std=c++11 -DHAVE_ZLIB -DHAVE_BZLIB -DHAVE_XZLIB\n",
            "x86_64-linux-gnu-gcc -pthread -Wno-unused-result -Wsign-compare -DNDEBUG -g -fwrapv -O2 -Wall -g -fdebug-prefix-map=/build/python3.7-a56wZI/python3.7-3.7.10=. -fstack-protector-strong -Wformat -Werror=format-security -g -fdebug-prefix-map=/build/python3.7-a56wZI/python3.7-3.7.10=. -fstack-protector-strong -Wformat -Werror=format-security -Wdate-time -D_FORTIFY_SOURCE=2 -fPIC -I. -I/usr/include/python3.7m -c lm/sizes.cc -o build/temp.linux-x86_64-3.7/lm/sizes.o -O3 -DNDEBUG -DKENLM_MAX_ORDER=6 -std=c++11 -DHAVE_ZLIB -DHAVE_BZLIB -DHAVE_XZLIB\n",
            "x86_64-linux-gnu-gcc -pthread -Wno-unused-result -Wsign-compare -DNDEBUG -g -fwrapv -O2 -Wall -g -fdebug-prefix-map=/build/python3.7-a56wZI/python3.7-3.7.10=. -fstack-protector-strong -Wformat -Werror=format-security -g -fdebug-prefix-map=/build/python3.7-a56wZI/python3.7-3.7.10=. -fstack-protector-strong -Wformat -Werror=format-security -Wdate-time -D_FORTIFY_SOURCE=2 -fPIC -I. -I/usr/include/python3.7m -c util/double-conversion/fixed-dtoa.cc -o build/temp.linux-x86_64-3.7/util/double-conversion/fixed-dtoa.o -O3 -DNDEBUG -DKENLM_MAX_ORDER=6 -std=c++11 -DHAVE_ZLIB -DHAVE_BZLIB -DHAVE_XZLIB\n",
            "x86_64-linux-gnu-gcc -pthread -Wno-unused-result -Wsign-compare -DNDEBUG -g -fwrapv -O2 -Wall -g -fdebug-prefix-map=/build/python3.7-a56wZI/python3.7-3.7.10=. -fstack-protector-strong -Wformat -Werror=format-security -g -fdebug-prefix-map=/build/python3.7-a56wZI/python3.7-3.7.10=. -fstack-protector-strong -Wformat -Werror=format-security -Wdate-time -D_FORTIFY_SOURCE=2 -fPIC -I. -I/usr/include/python3.7m -c util/double-conversion/strtod.cc -o build/temp.linux-x86_64-3.7/util/double-conversion/strtod.o -O3 -DNDEBUG -DKENLM_MAX_ORDER=6 -std=c++11 -DHAVE_ZLIB -DHAVE_BZLIB -DHAVE_XZLIB\n",
            "x86_64-linux-gnu-gcc -pthread -Wno-unused-result -Wsign-compare -DNDEBUG -g -fwrapv -O2 -Wall -g -fdebug-prefix-map=/build/python3.7-a56wZI/python3.7-3.7.10=. -fstack-protector-strong -Wformat -Werror=format-security -g -fdebug-prefix-map=/build/python3.7-a56wZI/python3.7-3.7.10=. -fstack-protector-strong -Wformat -Werror=format-security -Wdate-time -D_FORTIFY_SOURCE=2 -fPIC -I. -I/usr/include/python3.7m -c util/double-conversion/diy-fp.cc -o build/temp.linux-x86_64-3.7/util/double-conversion/diy-fp.o -O3 -DNDEBUG -DKENLM_MAX_ORDER=6 -std=c++11 -DHAVE_ZLIB -DHAVE_BZLIB -DHAVE_XZLIB\n",
            "x86_64-linux-gnu-gcc -pthread -Wno-unused-result -Wsign-compare -DNDEBUG -g -fwrapv -O2 -Wall -g -fdebug-prefix-map=/build/python3.7-a56wZI/python3.7-3.7.10=. -fstack-protector-strong -Wformat -Werror=format-security -g -fdebug-prefix-map=/build/python3.7-a56wZI/python3.7-3.7.10=. -fstack-protector-strong -Wformat -Werror=format-security -Wdate-time -D_FORTIFY_SOURCE=2 -fPIC -I. -I/usr/include/python3.7m -c util/double-conversion/cached-powers.cc -o build/temp.linux-x86_64-3.7/util/double-conversion/cached-powers.o -O3 -DNDEBUG -DKENLM_MAX_ORDER=6 -std=c++11 -DHAVE_ZLIB -DHAVE_BZLIB -DHAVE_XZLIB\n",
            "x86_64-linux-gnu-gcc -pthread -Wno-unused-result -Wsign-compare -DNDEBUG -g -fwrapv -O2 -Wall -g -fdebug-prefix-map=/build/python3.7-a56wZI/python3.7-3.7.10=. -fstack-protector-strong -Wformat -Werror=format-security -g -fdebug-prefix-map=/build/python3.7-a56wZI/python3.7-3.7.10=. -fstack-protector-strong -Wformat -Werror=format-security -Wdate-time -D_FORTIFY_SOURCE=2 -fPIC -I. -I/usr/include/python3.7m -c util/double-conversion/double-conversion.cc -o build/temp.linux-x86_64-3.7/util/double-conversion/double-conversion.o -O3 -DNDEBUG -DKENLM_MAX_ORDER=6 -std=c++11 -DHAVE_ZLIB -DHAVE_BZLIB -DHAVE_XZLIB\n",
            "x86_64-linux-gnu-gcc -pthread -Wno-unused-result -Wsign-compare -DNDEBUG -g -fwrapv -O2 -Wall -g -fdebug-prefix-map=/build/python3.7-a56wZI/python3.7-3.7.10=. -fstack-protector-strong -Wformat -Werror=format-security -g -fdebug-prefix-map=/build/python3.7-a56wZI/python3.7-3.7.10=. -fstack-protector-strong -Wformat -Werror=format-security -Wdate-time -D_FORTIFY_SOURCE=2 -fPIC -I. -I/usr/include/python3.7m -c util/double-conversion/fast-dtoa.cc -o build/temp.linux-x86_64-3.7/util/double-conversion/fast-dtoa.o -O3 -DNDEBUG -DKENLM_MAX_ORDER=6 -std=c++11 -DHAVE_ZLIB -DHAVE_BZLIB -DHAVE_XZLIB\n",
            "x86_64-linux-gnu-gcc -pthread -Wno-unused-result -Wsign-compare -DNDEBUG -g -fwrapv -O2 -Wall -g -fdebug-prefix-map=/build/python3.7-a56wZI/python3.7-3.7.10=. -fstack-protector-strong -Wformat -Werror=format-security -g -fdebug-prefix-map=/build/python3.7-a56wZI/python3.7-3.7.10=. -fstack-protector-strong -Wformat -Werror=format-security -Wdate-time -D_FORTIFY_SOURCE=2 -fPIC -I. -I/usr/include/python3.7m -c util/double-conversion/bignum.cc -o build/temp.linux-x86_64-3.7/util/double-conversion/bignum.o -O3 -DNDEBUG -DKENLM_MAX_ORDER=6 -std=c++11 -DHAVE_ZLIB -DHAVE_BZLIB -DHAVE_XZLIB\n",
            "x86_64-linux-gnu-gcc -pthread -Wno-unused-result -Wsign-compare -DNDEBUG -g -fwrapv -O2 -Wall -g -fdebug-prefix-map=/build/python3.7-a56wZI/python3.7-3.7.10=. -fstack-protector-strong -Wformat -Werror=format-security -g -fdebug-prefix-map=/build/python3.7-a56wZI/python3.7-3.7.10=. -fstack-protector-strong -Wformat -Werror=format-security -Wdate-time -D_FORTIFY_SOURCE=2 -fPIC -I. -I/usr/include/python3.7m -c util/double-conversion/bignum-dtoa.cc -o build/temp.linux-x86_64-3.7/util/double-conversion/bignum-dtoa.o -O3 -DNDEBUG -DKENLM_MAX_ORDER=6 -std=c++11 -DHAVE_ZLIB -DHAVE_BZLIB -DHAVE_XZLIB\n",
            "x86_64-linux-gnu-gcc -pthread -Wno-unused-result -Wsign-compare -DNDEBUG -g -fwrapv -O2 -Wall -g -fdebug-prefix-map=/build/python3.7-a56wZI/python3.7-3.7.10=. -fstack-protector-strong -Wformat -Werror=format-security -g -fdebug-prefix-map=/build/python3.7-a56wZI/python3.7-3.7.10=. -fstack-protector-strong -Wformat -Werror=format-security -Wdate-time -D_FORTIFY_SOURCE=2 -fPIC -I. -I/usr/include/python3.7m -c python/score_sentence.cc -o build/temp.linux-x86_64-3.7/python/score_sentence.o -O3 -DNDEBUG -DKENLM_MAX_ORDER=6 -std=c++11 -DHAVE_ZLIB -DHAVE_BZLIB -DHAVE_XZLIB\n",
            "x86_64-linux-gnu-gcc -pthread -Wno-unused-result -Wsign-compare -DNDEBUG -g -fwrapv -O2 -Wall -g -fdebug-prefix-map=/build/python3.7-a56wZI/python3.7-3.7.10=. -fstack-protector-strong -Wformat -Werror=format-security -g -fdebug-prefix-map=/build/python3.7-a56wZI/python3.7-3.7.10=. -fstack-protector-strong -Wformat -Werror=format-security -Wdate-time -D_FORTIFY_SOURCE=2 -fPIC -I. -I/usr/include/python3.7m -c python/kenlm.cpp -o build/temp.linux-x86_64-3.7/python/kenlm.o -O3 -DNDEBUG -DKENLM_MAX_ORDER=6 -std=c++11 -DHAVE_ZLIB -DHAVE_BZLIB -DHAVE_XZLIB\n",
            "creating build/lib.linux-x86_64-3.7\n",
            "x86_64-linux-gnu-gcc -pthread -shared -Wl,-O1 -Wl,-Bsymbolic-functions -Wl,-Bsymbolic-functions -Wl,-z,relro -Wl,-Bsymbolic-functions -Wl,-z,relro -g -fdebug-prefix-map=/build/python3.7-a56wZI/python3.7-3.7.10=. -fstack-protector-strong -Wformat -Werror=format-security -Wdate-time -D_FORTIFY_SOURCE=2 build/temp.linux-x86_64-3.7/util/read_compressed.o build/temp.linux-x86_64-3.7/util/float_to_string.o build/temp.linux-x86_64-3.7/util/string_piece.o build/temp.linux-x86_64-3.7/util/mmap.o build/temp.linux-x86_64-3.7/util/file_piece.o build/temp.linux-x86_64-3.7/util/bit_packing.o build/temp.linux-x86_64-3.7/util/murmur_hash.o build/temp.linux-x86_64-3.7/util/exception.o build/temp.linux-x86_64-3.7/util/usage.o build/temp.linux-x86_64-3.7/util/ersatz_progress.o build/temp.linux-x86_64-3.7/util/parallel_read.o build/temp.linux-x86_64-3.7/util/file.o build/temp.linux-x86_64-3.7/util/scoped.o build/temp.linux-x86_64-3.7/util/pool.o build/temp.linux-x86_64-3.7/util/spaces.o build/temp.linux-x86_64-3.7/util/integer_to_string.o build/temp.linux-x86_64-3.7/lm/search_trie.o build/temp.linux-x86_64-3.7/lm/model.o build/temp.linux-x86_64-3.7/lm/bhiksha.o build/temp.linux-x86_64-3.7/lm/binary_format.o build/temp.linux-x86_64-3.7/lm/value_build.o build/temp.linux-x86_64-3.7/lm/lm_exception.o build/temp.linux-x86_64-3.7/lm/trie_sort.o build/temp.linux-x86_64-3.7/lm/read_arpa.o build/temp.linux-x86_64-3.7/lm/trie.o build/temp.linux-x86_64-3.7/lm/quantize.o build/temp.linux-x86_64-3.7/lm/config.o build/temp.linux-x86_64-3.7/lm/virtual_interface.o build/temp.linux-x86_64-3.7/lm/search_hashed.o build/temp.linux-x86_64-3.7/lm/vocab.o build/temp.linux-x86_64-3.7/lm/sizes.o build/temp.linux-x86_64-3.7/util/double-conversion/fixed-dtoa.o build/temp.linux-x86_64-3.7/util/double-conversion/strtod.o build/temp.linux-x86_64-3.7/util/double-conversion/diy-fp.o build/temp.linux-x86_64-3.7/util/double-conversion/cached-powers.o build/temp.linux-x86_64-3.7/util/double-conversion/double-conversion.o build/temp.linux-x86_64-3.7/util/double-conversion/fast-dtoa.o build/temp.linux-x86_64-3.7/util/double-conversion/bignum.o build/temp.linux-x86_64-3.7/util/double-conversion/bignum-dtoa.o build/temp.linux-x86_64-3.7/python/score_sentence.o build/temp.linux-x86_64-3.7/python/kenlm.o -lstdc++ -lrt -lz -lbz2 -llzma -o build/lib.linux-x86_64-3.7/kenlm.cpython-37m-x86_64-linux-gnu.so\n",
            "creating build/bdist.linux-x86_64\n",
            "creating build/bdist.linux-x86_64/egg\n",
            "copying build/lib.linux-x86_64-3.7/kenlm.cpython-37m-x86_64-linux-gnu.so -> build/bdist.linux-x86_64/egg\n",
            "creating stub loader for kenlm.cpython-37m-x86_64-linux-gnu.so\n",
            "byte-compiling build/bdist.linux-x86_64/egg/kenlm.py to kenlm.cpython-37.pyc\n",
            "creating build/bdist.linux-x86_64/egg/EGG-INFO\n",
            "copying kenlm.egg-info/PKG-INFO -> build/bdist.linux-x86_64/egg/EGG-INFO\n",
            "copying kenlm.egg-info/SOURCES.txt -> build/bdist.linux-x86_64/egg/EGG-INFO\n",
            "copying kenlm.egg-info/dependency_links.txt -> build/bdist.linux-x86_64/egg/EGG-INFO\n",
            "copying kenlm.egg-info/top_level.txt -> build/bdist.linux-x86_64/egg/EGG-INFO\n",
            "writing build/bdist.linux-x86_64/egg/EGG-INFO/native_libs.txt\n",
            "zip_safe flag not set; analyzing archive contents...\n",
            "__pycache__.kenlm.cpython-37: module references __file__\n",
            "creating dist\n",
            "creating 'dist/kenlm-0.0.0-py3.7-linux-x86_64.egg' and adding 'build/bdist.linux-x86_64/egg' to it\n",
            "removing 'build/bdist.linux-x86_64/egg' (and everything under it)\n",
            "Processing kenlm-0.0.0-py3.7-linux-x86_64.egg\n",
            "creating /usr/local/lib/python3.7/dist-packages/kenlm-0.0.0-py3.7-linux-x86_64.egg\n",
            "Extracting kenlm-0.0.0-py3.7-linux-x86_64.egg to /usr/local/lib/python3.7/dist-packages\n",
            "Adding kenlm 0.0.0 to easy-install.pth file\n",
            "\n",
            "Installed /usr/local/lib/python3.7/dist-packages/kenlm-0.0.0-py3.7-linux-x86_64.egg\n",
            "Processing dependencies for kenlm==0.0.0\n",
            "Finished processing dependencies for kenlm==0.0.0\n",
            "Requirement already satisfied: nltk in /usr/local/lib/python3.7/dist-packages (3.2.5)\n",
            "Requirement already satisfied: six in /usr/local/lib/python3.7/dist-packages (from nltk) (1.15.0)\n",
            "/usr/lib/python3.7/runpy.py:125: RuntimeWarning: 'nltk.downloader' found in sys.modules after import of package 'nltk', but prior to execution of 'nltk.downloader'; this may result in unpredictable behaviour\n",
            "  warn(RuntimeWarning(msg))\n",
            "[nltk_data] Downloading package punkt to /usr/local/share/nltk_data...\n",
            "[nltk_data]   Unzipping tokenizers/punkt.zip.\n",
            "/content\n",
            "fatal: not a git repository (or any of the parent directories): .git\n",
            "/content/low_resource_lm\n",
            "\u001b[31mERROR: Could not open requirements file: [Errno 2] No such file or directory: 'requirements.txt'\u001b[0m\n",
            "fetching nchlt data\n",
            "processing: https://repo.sadilar.org/bitstream/handle/20.500.12185/330/corpora.nchlt.nso.zip\n",
            "total sentences in sepedi/sepedi.txt: 105552\n",
            "processing: http://www.rma.nwu.ac.za/bitstream/handle/20.500.12185/321/corpora.nchlt.zu.zip\n",
            "total sentences in isizulu/isizulu.txt: 113072\n",
            "processing: https://repo.sadilar.org/bitstream/handle/20.500.12185/314/corpora.nchlt.xh.zip\n",
            "total sentences in isixhosa/isixhosa.txt: 83914\n",
            "processing: https://repo.sadilar.org/bitstream/handle/20.500.12185/364/corpora.nchlt.ts.zip\n",
            "total sentences in xitsonga/xitsonga.txt: 68688\n",
            "processing: http://www.rma.nwu.ac.za/bitstream/handle/20.500.12185/343/corpora.nchlt.tn.zip\n",
            "total sentences in setswana/setswana.txt: 58473\n",
            "processing: http://www.rma.nwu.ac.za/bitstream/handle/20.500.12185/348/corpora.nchlt.ss.zip\n",
            "total sentences in siswati/siswati.txt: 73516\n",
            "processing: https://repo.sadilar.org/bitstream/handle/20.500.12185/308/corpora.nchlt.nr.zip\n",
            "total sentences in isindebele/isindebele.txt: 64887\n",
            "processing: http://www.rma.nwu.ac.za/bitstream/handle/20.500.12185/357/corpora.nchlt.ve.zip\n",
            "total sentences in tshivenda/tshivenda.txt: 53239\n",
            "processing: https://repo.sadilar.org/bitstream/handle/20.500.12185/336/corpora.nchlt.st.zip\n",
            "total sentences in sesotho/sesotho.txt: 83488\n",
            "\n",
            "fetching autshumato data\n",
            "processing: https://master.dl.sourceforge.net/project/autshumato/Corpora/ENG-ZUL.Release.zip\n",
            "total sentences in isizulu/isizulu.txt: 27507\n",
            "processing: https://master.dl.sourceforge.net/project/autshumato/Corpora/ENG-NSO.Release.zip\n",
            "total sentences in sepedi/sepedi.txt: 33917\n",
            "Autshumato datasets provided under Creative Commons Attribution Non-Commercial ShareAlike, CTexT (Centre for Text Technology, North-West University), South Africa; Department of Arts and Culture, South Africa. http://autshumato.sourceforge.net/ and http://www.nwu.ac.za/ctext\n",
            "\n",
            "fetching isolezwe data\n",
            "processing: https://codeload.github.com/newstools/2016-iol-isolezwe/zip/master\n",
            "processing: https://codeload.github.com/newstools/2017-iol-isolezwe/zip/master\n",
            "processing: https://codeload.github.com/newstools/2018-iol-isolezwe/zip/master\n",
            "processing: https://codeload.github.com/newstools/2019-iol-isolezwe/zip/master\n",
            "processing: https://codeload.github.com/newstools/2020-iol-isolezwe/zip/master\n",
            "total sentences: 81408\n",
            "\n",
            "Partitioning datasets\n",
            "Collecting tokenizers\n",
            "\u001b[?25l  Downloading https://files.pythonhosted.org/packages/71/23/2ddc317b2121117bf34dd00f5b0de194158f2a44ee2bf5e47c7166878a97/tokenizers-0.10.1-cp37-cp37m-manylinux2010_x86_64.whl (3.2MB)\n",
            "\u001b[K     |████████████████████████████████| 3.2MB 4.1MB/s \n",
            "\u001b[?25hInstalling collected packages: tokenizers\n",
            "Successfully installed tokenizers-0.10.1\n",
            "/content\n"
          ],
          "name": "stdout"
        }
      ]
    },
    {
      "cell_type": "code",
      "metadata": {
        "colab": {
          "base_uri": "https://localhost:8080/"
        },
        "id": "mFkrnhC5cxPX",
        "outputId": "51fceb77-6cf8-4982-97df-a22d9af4a07e"
      },
      "source": [
        "%%writefile /content/kenlm/build/process.py\n",
        "import sys, nltk\n",
        "for line in sys.stdin:\n",
        "    for sentence in nltk.sent_tokenize(line):\n",
        "        print(' '.join(nltk.word_tokenize(sentence)).lower())"
      ],
      "execution_count": null,
      "outputs": [
        {
          "output_type": "stream",
          "text": [
            "Writing /content/kenlm/build/process.py\n"
          ],
          "name": "stdout"
        }
      ]
    },
    {
      "cell_type": "code",
      "metadata": {
        "colab": {
          "base_uri": "https://localhost:8080/"
        },
        "id": "wPvwdK4ZaTv0",
        "outputId": "714b1b05-9611-459c-ea98-2afceb19889d"
      },
      "source": [
        "!wc -l n-gram.arpa"
      ],
      "execution_count": null,
      "outputs": [
        {
          "output_type": "stream",
          "text": [
            "5722000 n-gram.arpa\n"
          ],
          "name": "stdout"
        }
      ]
    },
    {
      "cell_type": "code",
      "metadata": {
        "id": "VnH3AvfeCLum",
        "colab": {
          "base_uri": "https://localhost:8080/"
        },
        "outputId": "2098dc85-5017-4503-848c-29d08f10b739"
      },
      "source": [
        " # TRAIN_SET = '/content/low_resource_lm/data/nchlt/sepedi_train.txt'\n",
        "# VAL_SET = '/content/low_resource_lm/data/nchlt/sepedi_valid.txt'\n",
        "# TEST_SET = '/content/low_resource_lm/data/nchlt/sepedi_test.txt'\n",
        "# BPE_VOCAB_SIZE = 8000\n",
        "# N_GRAM_ORDER = 6\n",
        "\n",
        "DATASETS = [\n",
        "  (\n",
        "      '/content/low_resource_lm/data/nchlt/sepedi_train.txt',\n",
        "      '/content/low_resource_lm/data/nchlt/sepedi_valid.txt',\n",
        "      '/content/low_resource_lm/data/nchlt/sepedi_test.txt',\n",
        "  ),\n",
        "  # (\n",
        "  #     '/content/low_resource_lm/data/nchlt/isizulu_train.txt',\n",
        "  #     '/content/low_resource_lm/data/nchlt/isizulu_valid.txt',\n",
        "  #     '/content/low_resource_lm/data/nchlt/isizulu_test.txt',\n",
        "  # ),\n",
        "  # (\n",
        "  #     '/content/low_resource_lm/data/isolezwe/isizulu_train.txt',\n",
        "  #     '/content/low_resource_lm/data/isolezwe/isizulu_valid.txt',\n",
        "  #     '/content/low_resource_lm/data/isolezwe/isizulu_test.txt',\n",
        "  # ),\n",
        "]\n",
        "\n",
        "f = open('results.csv', 'w')\n",
        "f.write('train set, val set, test set, bpe vocab size, ngram order, val bpc, test bpc\\n')\n",
        "\n",
        "for TRAIN_SET, VAL_SET, TEST_SET in DATASETS:\n",
        "  for BPE_VOCAB_SIZE in [2000]:#1000, 2000, 4000, 8000, 10000]:\n",
        "    for N_GRAM_ORDER in [6]:#3, 4, 5, 6, 8]:\n",
        "      from tokenizers import ByteLevelBPETokenizer\n",
        "\n",
        "      tokenizer = ByteLevelBPETokenizer()\n",
        "      tokenizer.train([TRAIN_SET], vocab_size=BPE_VOCAB_SIZE)\n",
        "      tokenizer.save(\"mybpe\")\n",
        "\n",
        "      from pathlib import Path\n",
        "      txt = Path(TRAIN_SET).read_text()\n",
        "\n",
        "      output = tokenizer.encode(txt)\n",
        "      outputIDs = output.ids\n",
        "\n",
        "      outF = open(\"myOutFile.txt\", \"w\")\n",
        "      for id in outputIDs:\n",
        "        strID = str(id)\n",
        "        outF.write(strID)\n",
        "        outF.write(\" \")\n",
        "      outF.close()\n",
        "\n",
        "      txt = Path(VAL_SET).read_text()\n",
        "\n",
        "      output = tokenizer.encode(txt)\n",
        "      outputIDs = output.ids\n",
        "\n",
        "      outF = open(\"myOutFileValid.txt\", \"w\")\n",
        "      for id in outputIDs:\n",
        "        strID = str(id)\n",
        "        outF.write(strID)\n",
        "        outF.write(\" \")\n",
        "      outF.close()\n",
        "\n",
        "      txt = Path(TEST_SET).read_text()\n",
        "\n",
        "      output = tokenizer.encode(txt)\n",
        "      outputIDs = output.ids\n",
        "\n",
        "      outF = open(\"myOutFileTest.txt\", \"w\")\n",
        "      for id in outputIDs:\n",
        "        strID = str(id)\n",
        "        outF.write(strID)\n",
        "        outF.write(\" \")\n",
        "      outF.close()\n",
        "\n",
        "\n",
        "      # train n-grams\n",
        "\n",
        "      !cat myOutFile.txt | python /content/kenlm/build/process.py | /content/kenlm/build/bin/lmplz -o $N_GRAM_ORDER > n-gram.arpa --discount_fallback\n",
        "\n",
        "      !/content/kenlm/build/bin/build_binary n-gram.arpa n-gram.klm\n",
        "      !wc -l n-gram.arpa\n",
        "\n",
        "\n",
        "      # # report results\n",
        "\n",
        "      # f.write('{}, {}, {}, {}, {}, '.format(TRAIN_SET, VAL_SET, TEST_SET, BPE_VOCAB_SIZE, N_GRAM_ORDER))\n",
        "\n",
        "      # import kenlm\n",
        "      # import math\n",
        "\n",
        "      # model = kenlm.LanguageModel('n-gram.klm')\n",
        "\n",
        "      # from pathlib import Path\n",
        "      # txt = Path('myOutFileValid.txt').read_text().strip()\n",
        "      # txt2 = Path(VAL_SET).read_text().strip()\n",
        "\n",
        "      # per=model.perplexity(txt)\n",
        "      # characters = len(txt2)\n",
        "      # tokens = len(txt.split(\" \"))\n",
        "      # print(\"VALIDATION SET RESULTS:\")\n",
        "      # print(\"The number of characters: \", characters)\n",
        "      # print(\"The number of tokens: \", tokens)\n",
        "      # print(\"Perplexity: \", per)\n",
        "\n",
        "      # bpc = tokens/characters * math.log2(per)\n",
        "      # print(\"Bits per character: \", bpc)\n",
        "\n",
        "      # f.write(str(bpc) + ', ')\n",
        "\n",
        "      # txt = Path('myOutFileTest.txt').read_text().strip()\n",
        "      # txt2 = Path(TEST_SET).read_text().strip()\n",
        "\n",
        "      # per=model.perplexity(txt)\n",
        "      # characters = len(txt2)\n",
        "      # tokens = len(txt.split(\" \"))\n",
        "      # print(\"TEST SET RESULTS:\")\n",
        "      # print(\"The number of characters: \", characters)\n",
        "      # print(\"The number of tokens: \", tokens)\n",
        "      # print(\"Perplexity: \", per)\n",
        "\n",
        "      # bpc = tokens/characters * math.log2(per)\n",
        "      # print(\"Bits per character: \", bpc)\n",
        "\n",
        "      # f.write(str(bpc) + '\\n')\n",
        "      # f.flush()\n",
        "\n",
        "f.close()"
      ],
      "execution_count": null,
      "outputs": [
        {
          "output_type": "stream",
          "text": [
            "=== 1/5 Counting and sorting n-grams ===\n",
            "File stdin isn't normal.  Using slower read() instead of mmap().  No progress bar.\n",
            "tcmalloc: large alloc 1720696832 bytes == 0x557a70fda000 @  0x7f60f3ac21e7 0x557a6e6957a2 0x557a6e63051e 0x557a6e60f2eb 0x557a6e5fb066 0x7f60f1c5bbf7 0x557a6e5fcbaa\n",
            "tcmalloc: large alloc 9177030656 bytes == 0x557ad78d6000 @  0x7f60f3ac21e7 0x557a6e6957a2 0x557a6e6847ca 0x557a6e685208 0x557a6e60f308 0x557a6e5fb066 0x7f60f1c5bbf7 0x557a6e5fcbaa\n",
            "Unigram tokens 2269646 types 1856\n",
            "=== 2/5 Calculating and sorting adjusted counts ===\n",
            "Chain sizes: 1:22272 2:672176000 3:1260329984 4:2016528000 5:2940770048 6:4033056000\n",
            "tcmalloc: large alloc 4033060864 bytes == 0x557a70ed8000 @  0x7f60f3ac21e7 0x557a6e6957a2 0x557a6e6847ca 0x557a6e685208 0x557a6e60f8d7 0x557a6e5fb066 0x7f60f1c5bbf7 0x557a6e5fcbaa\n",
            "tcmalloc: large alloc 2016534528 bytes == 0x557bd481c000 @  0x7f60f3ac21e7 0x557a6e6957a2 0x557a6e6847ca 0x557a6e685208 0x557a6e60fcdd 0x557a6e5fb066 0x7f60f1c5bbf7 0x557a6e5fcbaa\n",
            "tcmalloc: large alloc 2940772352 bytes == 0x557cfb168000 @  0x7f60f3ac21e7 0x557a6e6957a2 0x557a6e6847ca 0x557a6e685208 0x557a6e60fcdd 0x557a6e5fb066 0x7f60f1c5bbf7 0x557a6e5fcbaa\n",
            "Statistics:\n",
            "1 1856 D1=0.508197 D2=0.272131 D3+=0.728062\n",
            "2 169914 D1=0.625639 D2=1.07309 D3+=1.46331\n",
            "3 820587 D1=0.763881 D2=1.16765 D3+=1.44565\n",
            "4 1461331 D1=0.864209 D2=1.26518 D3+=1.48697\n",
            "5 1853021 D1=0.92599 D2=1.38535 D3+=1.57663\n",
            "6 2041579 D1=0.911412 D2=1.45235 D3+=1.5986\n",
            "Memory estimate for binary LM:\n",
            "type     MB\n",
            "probing 133 assuming -p 1.5\n",
            "probing 158 assuming -r models -p 1.5\n",
            "trie     58 without quantization\n",
            "trie     29 assuming -q 8 -b 8 quantization \n",
            "trie     52 assuming -a 22 array pointer compression\n",
            "trie     22 assuming -a 22 -q 8 -b 8 array pointer compression and quantization\n",
            "=== 3/5 Calculating and sorting initial probabilities ===\n",
            "Chain sizes: 1:22272 2:2718624 3:16411740 4:35071944 5:51884588 6:65330528\n",
            "----5---10---15---20---25---30---35---40---45---50---55---60---65---70---75---80---85---90---95--100\n",
            "####################################################################################################\n",
            "=== 4/5 Calculating and writing order-interpolated probabilities ===\n",
            "Chain sizes: 1:22272 2:2718624 3:16411740 4:35071944 5:51884588 6:65330528\n",
            "----5---10---15---20---25---30---35---40---45---50---55---60---65---70---75---80---85---90---95--100\n",
            "####################################################################################################\n",
            "=== 5/5 Writing ARPA model ===\n",
            "----5---10---15---20---25---30---35---40---45---50---55---60---65---70---75---80---85---90---95--100\n",
            "****************************************************************************************************\n",
            "Name:lmplz\tVmPeak:14047328 kB\tVmRSS:1986924 kB\tRSSMax:1987068 kB\tuser:6.15816\tsys:2.01803\tCPU:8.17624\treal:13.3853\n",
            "Reading n-gram.arpa\n",
            "----5---10---15---20---25---30---35---40---45---50---55---60---65---70---75---80---85---90---95--100\n",
            "****************************************************************************************************\n",
            "SUCCESS\n",
            "6348309 n-gram.arpa\n"
          ],
          "name": "stdout"
        }
      ]
    },
    {
      "cell_type": "code",
      "metadata": {
        "id": "kv7XxvC0h_hr",
        "colab": {
          "base_uri": "https://localhost:8080/"
        },
        "outputId": "898cfdab-a2ac-4eef-d135-930c0463e796"
      },
      "source": [
        "!git clone -q https://github.com/StuartMesham/low_resource_lm.git\n",
        "%cd low_resource_lm\n",
        "!pip install -qr requirements.txt\n",
        "!./scripts/fetch_data.sh\n",
        "\n",
        "!pip install tokenizers\n",
        "\n",
        "%cd /content/\n",
        "!git clone -q https://github.com/StuartMesham/word-language-model.git\n",
        "%cd word-language-model/\n",
        "!pip install -r requirements.txt\n",
        "%cd /content/low_resource_lm/data/\n",
        "!cp -r  /content/low_resource_lm/data/nchlt/ /content/word-language-model/\n",
        "!cp -r  /content/low_resource_lm/data/isolezwe/ /content/word-language-model/\n",
        "%cd /content/word-language-model/nchlt/\n",
        "%cd /content/word-language-model/"
      ],
      "execution_count": null,
      "outputs": [
        {
          "output_type": "stream",
          "text": [
            "/content/low_resource_lm\n",
            "\u001b[K     |████████████████████████████████| 163kB 11.2MB/s \n",
            "\u001b[K     |████████████████████████████████| 71kB 5.4MB/s \n",
            "\u001b[K     |████████████████████████████████| 133kB 10.7MB/s \n",
            "\u001b[31mERROR: google-colab 1.0.0 has requirement requests~=2.23.0, but you'll have requests 2.24.0 which is incompatible.\u001b[0m\n",
            "\u001b[31mERROR: datascience 0.10.6 has requirement folium==0.2.1, but you'll have folium 0.8.3 which is incompatible.\u001b[0m\n",
            "\u001b[?25hfetching nchlt data\n",
            "processing: https://repo.sadilar.org/bitstream/handle/20.500.12185/330/corpora.nchlt.nso.zip\n",
            "total sentences in sepedi.txt: 105552\n",
            "processing: http://www.rma.nwu.ac.za/bitstream/handle/20.500.12185/321/corpora.nchlt.zu.zip\n",
            "total sentences in isizulu.txt: 113072\n",
            "processing: https://repo.sadilar.org/bitstream/handle/20.500.12185/314/corpora.nchlt.xh.zip\n",
            "total sentences in isixhosa.txt: 83914\n",
            "processing: https://repo.sadilar.org/bitstream/handle/20.500.12185/364/corpora.nchlt.ts.zip\n",
            "total sentences in xitsonga.txt: 68688\n",
            "processing: http://www.rma.nwu.ac.za/bitstream/handle/20.500.12185/343/corpora.nchlt.tn.zip\n",
            "total sentences in setswana.txt: 58473\n",
            "processing: http://www.rma.nwu.ac.za/bitstream/handle/20.500.12185/348/corpora.nchlt.ss.zip\n",
            "total sentences in siswati.txt: 73516\n",
            "processing: https://repo.sadilar.org/bitstream/handle/20.500.12185/308/corpora.nchlt.nr.zip\n",
            "total sentences in isindebele.txt: 64887\n",
            "processing: http://www.rma.nwu.ac.za/bitstream/handle/20.500.12185/357/corpora.nchlt.ve.zip\n",
            "total sentences in tshivenda.txt: 53239\n",
            "processing: https://repo.sadilar.org/bitstream/handle/20.500.12185/336/corpora.nchlt.st.zip\n",
            "total sentences in sesotho.txt: 83488\n",
            "\n",
            "fetching autshumato data\n",
            "processing: https://master.dl.sourceforge.net/project/autshumato/Corpora/ENG-ZUL.Release.zip\n",
            "total sentences in isizulu.txt: 27507\n",
            "processing: https://master.dl.sourceforge.net/project/autshumato/Corpora/ENG-NSO.Release.zip\n",
            "total sentences in sepedi.txt: 33917\n",
            "\n",
            "fetching isolezwe data\n",
            "processing: https://codeload.github.com/newstools/2016-iol-isolezwe/zip/master\n",
            "processing: https://codeload.github.com/newstools/2017-iol-isolezwe/zip/master\n",
            "processing: https://codeload.github.com/newstools/2018-iol-isolezwe/zip/master\n",
            "processing: https://codeload.github.com/newstools/2019-iol-isolezwe/zip/master\n",
            "processing: https://codeload.github.com/newstools/2020-iol-isolezwe/zip/master\n",
            "total sentences: 81408\n",
            "\n",
            "Partitioning datasets\n",
            "Collecting tokenizers\n",
            "\u001b[?25l  Downloading https://files.pythonhosted.org/packages/19/3d/7d02fdd8ff736fc171b8a6e81edba23defa2e3d37672ece1809b7feea819/tokenizers-0.10.0-cp36-cp36m-manylinux2010_x86_64.whl (3.2MB)\n",
            "\u001b[K     |████████████████████████████████| 3.2MB 10.9MB/s \n",
            "\u001b[?25hInstalling collected packages: tokenizers\n",
            "Successfully installed tokenizers-0.10.0\n",
            "/content\n",
            "/content/word-language-model\n",
            "Requirement already satisfied: torch in /usr/local/lib/python3.6/dist-packages (from -r requirements.txt (line 1)) (1.7.0+cu101)\n",
            "Requirement already satisfied: future in /usr/local/lib/python3.6/dist-packages (from torch->-r requirements.txt (line 1)) (0.16.0)\n",
            "Requirement already satisfied: typing-extensions in /usr/local/lib/python3.6/dist-packages (from torch->-r requirements.txt (line 1)) (3.7.4.3)\n",
            "Requirement already satisfied: dataclasses in /usr/local/lib/python3.6/dist-packages (from torch->-r requirements.txt (line 1)) (0.8)\n",
            "Requirement already satisfied: numpy in /usr/local/lib/python3.6/dist-packages (from torch->-r requirements.txt (line 1)) (1.19.5)\n",
            "/content/low_resource_lm/data\n",
            "/content/word-language-model/nchlt\n",
            "/content/word-language-model\n"
          ],
          "name": "stdout"
        }
      ]
    },
    {
      "cell_type": "code",
      "metadata": {
        "colab": {
          "base_uri": "https://localhost:8080/"
        },
        "id": "v90fvsJskcfp",
        "outputId": "68f0012d-3567-4a50-a56b-b8f9222bd3ae"
      },
      "source": [
        "from google.colab import drive\n",
        "drive.mount('/content/drive')"
      ],
      "execution_count": null,
      "outputs": [
        {
          "output_type": "stream",
          "text": [
            "Mounted at /content/drive\n"
          ],
          "name": "stdout"
        }
      ]
    },
    {
      "cell_type": "code",
      "metadata": {
        "colab": {
          "base_uri": "https://localhost:8080/"
        },
        "id": "ip1jyMjrhRL-",
        "outputId": "077eb1db-f523-4f65-c201-cc077ccdb688"
      },
      "source": [
        "!git pull"
      ],
      "execution_count": null,
      "outputs": [
        {
          "output_type": "stream",
          "text": [
            "Already up to date.\n"
          ],
          "name": "stdout"
        }
      ]
    },
    {
      "cell_type": "code",
      "metadata": {
        "id": "UUbp7kqHS1jY"
      },
      "source": [
        "from tokenizers import ByteLevelBPETokenizer\n",
        "TRAIN_SET = '/content/low_resource_lm/data/isolezwe/isizulu_train.txt'\n",
        "tokenizer = ByteLevelBPETokenizer()\n",
        "tokenizer.train([TRAIN_SET], vocab_size=8000)"
      ],
      "execution_count": null,
      "outputs": []
    },
    {
      "cell_type": "code",
      "metadata": {
        "id": "nU_9Ld0WTHiN"
      },
      "source": [
        "tokenizer"
      ],
      "execution_count": null,
      "outputs": []
    },
    {
      "cell_type": "code",
      "metadata": {
        "colab": {
          "base_uri": "https://localhost:8080/"
        },
        "id": "4hdweQIxWKSX",
        "outputId": "791702e8-b488-4fe0-e5ed-d81113d30b2c"
      },
      "source": [
        "DATASETS = [\r\n",
        "  # (\r\n",
        "  #     '/content/low_resource_lm/data/nchlt/sepedi_train.txt',\r\n",
        "  #     '/content/low_resource_lm/data/nchlt/sepedi_valid.txt',\r\n",
        "  #     '/content/low_resource_lm/data/nchlt/sepedi_test.txt',\r\n",
        "\r\n",
        "  # ),\r\n",
        "  # (\r\n",
        "  #     '/content/low_resource_lm/data/nchlt/isizulu_train.txt',\r\n",
        "  #     '/content/low_resource_lm/data/nchlt/isizulu_valid.txt',\r\n",
        "  #     '/content/low_resource_lm/data/nchlt/isizulu_test.txt',\r\n",
        "\r\n",
        "  # ),\r\n",
        "  (\r\n",
        "      '/content/low_resource_lm/data/isolezwe/isizulu_train.txt',\r\n",
        "      '/content/low_resource_lm/data/isolezwe/isizulu_valid.txt',\r\n",
        "      '/content/low_resource_lm/data/isolezwe/isizulu_test.txt',\r\n",
        "\r\n",
        "  ),\r\n",
        "]\r\n",
        "\r\n",
        "# f = open('results.csv', 'w')\r\n",
        "# f.write('train set, val set, test set, bpe vocab size, ngram order, val bpc, test bpc\\n')\r\n",
        "\r\n",
        "for TRAIN_SET, VAL_SET, TEST_SET in DATASETS:\r\n",
        "  for BPE_VOCAB_SIZE in [10000]:#1000, 2000, 8000, 10000]:\r\n",
        "    for N_GRAM_ORDER in [2]:#, 6]:\r\n",
        "      from tokenizers import ByteLevelBPETokenizer\r\n",
        "\r\n",
        "      tokenizer = ByteLevelBPETokenizer()\r\n",
        "      tokenizer.train([TRAIN_SET], vocab_size=BPE_VOCAB_SIZE)\r\n",
        "      tokenizer.save(\"mybpe\")\r\n",
        "\r\n",
        "      from pathlib import Path\r\n",
        "      txt = Path(TRAIN_SET).read_text()\r\n",
        "\r\n",
        "      output = tokenizer.encode(txt)\r\n",
        "      outputIDs = output.ids\r\n",
        "\r\n",
        "      outF = open(\"myOutFile.txt\", \"w\")\r\n",
        "      for id in outputIDs:\r\n",
        "        strID = str(id)\r\n",
        "        outF.write(strID)\r\n",
        "        outF.write(\" \")\r\n",
        "      outF.close()\r\n",
        "\r\n",
        "      txt = Path(VAL_SET).read_text()\r\n",
        "\r\n",
        "      output = tokenizer.encode(txt)\r\n",
        "      outputIDs = output.ids\r\n",
        "\r\n",
        "      outF = open(\"myOutFileValid.txt\", \"w\")\r\n",
        "      for id in outputIDs:\r\n",
        "        strID = str(id)\r\n",
        "        outF.write(strID)\r\n",
        "        outF.write(\" \")\r\n",
        "      outF.close()\r\n",
        "\r\n",
        "      txt = Path(TEST_SET).read_text()\r\n",
        "\r\n",
        "      output = tokenizer.encode(txt)\r\n",
        "      outputIDs = output.ids\r\n",
        "\r\n",
        "      outF = open(\"myOutFileTest.txt\", \"w\")\r\n",
        "      for id in outputIDs:\r\n",
        "        strID = str(id)\r\n",
        "        outF.write(strID)\r\n",
        "        outF.write(\" \")\r\n",
        "      outF.close()\r\n",
        "\r\n",
        "      !mv myOutFile.txt train.txt\r\n",
        "      !mv myOutFileValid.txt valid.txt\r\n",
        "      !mv myOutFileTest.txt test.txt\r\n",
        "\r\n",
        "      txt = Path('valid.txt').read_text().strip()\r\n",
        "      txt2 = Path(VAL_SET).read_text().strip()\r\n",
        "      val_characters = len(txt2)\r\n",
        "      val_tokens = len(txt.split(\" \"))\r\n",
        "\r\n",
        "      txt = Path('test.txt').read_text().strip()\r\n",
        "      txt2 = Path(TEST_SET).read_text().strip()\r\n",
        "      test_characters = len(txt2)\r\n",
        "      test_tokens = len(txt.split(\" \"))\r\n",
        "\r\n",
        "      for EMSIZE in [500]:\r\n",
        "        for DROPOUT in [0.3]:#, 0.5]:\r\n",
        "          for BATCH_SIZE in [32]:\r\n",
        "            for N_LAYERS in [2]:\r\n",
        "              !python main.py \\\r\n",
        "              --cuda \\\r\n",
        "              --epochs 0 \\\r\n",
        "              --data \"./\" \\\r\n",
        "              --nlayers $N_LAYERS \\\r\n",
        "              --emsize $EMSIZE \\\r\n",
        "              --nhid $EMSIZE \\\r\n",
        "              --dropout $DROPOUT \\\r\n",
        "              --batch_size $BATCH_SIZE \\\r\n",
        "              --val_characters $val_characters \\\r\n",
        "              --val_tokens $val_tokens \\\r\n",
        "              --test_characters $test_characters \\\r\n",
        "              --test_tokens $test_tokens \\\r\n",
        "              --train_set_path $TRAIN_SET \\\r\n",
        "              --bpe_vocab_size $BPE_VOCAB_SIZE \\\r\n",
        "              --norder $N_GRAM_ORDER \\\r\n",
        "              --log-interval 300 \\\r\n",
        "              --csv ff_results.csv\r\n"
      ],
      "execution_count": null,
      "outputs": [
        {
          "output_type": "stream",
          "text": [
            "5688354\n",
            "Traceback (most recent call last):\n",
            "  File \"main.py\", line 296, in <module>\n",
            "    with open(args.save, 'rb') as f:\n",
            "FileNotFoundError: [Errno 2] No such file or directory: 'model.pt'\n"
          ],
          "name": "stdout"
        }
      ]
    },
    {
      "cell_type": "code",
      "metadata": {
        "id": "7188agu2cPqH",
        "colab": {
          "base_uri": "https://localhost:8080/"
        },
        "outputId": "9e1b163b-48f8-4cdf-b22c-1d15127c1ca4"
      },
      "source": [
        "!python main.py --cuda --epochs 10 --model FeedForward --data nchlt/"
      ],
      "execution_count": null,
      "outputs": [
        {
          "output_type": "stream",
          "text": [
            "-------------------------------------------------------------\n",
            "Training tokenizer on: nchlt/isizulu_/train.txt\n",
            "-------------------------------------------------------------\n",
            "Encoding dataset at: nchlt/isizulu_\n",
            "-------------------------------------------------------------\n",
            "Traceback (most recent call last):\n",
            "  File \"main.py\", line 81, in <module>\n",
            "    pad_id = corpus.dictionary.word2idx['<eos>']\n",
            "KeyError: '<eos>'\n"
          ],
          "name": "stdout"
        }
      ]
    },
    {
      "cell_type": "code",
      "metadata": {
        "id": "KricVu4OQGFu",
        "colab": {
          "base_uri": "https://localhost:8080/"
        },
        "outputId": "05050df8-b367-4aaf-856f-b0f395189f06"
      },
      "source": [
        "!python main.py --cuda --epochs 50 --emsize 1500 --nhid 1500 --nlayers 2 --dropout 0.65 --model FeedForward --data ../data/autshumato/"
      ],
      "execution_count": null,
      "outputs": [
        {
          "output_type": "stream",
          "text": [
            "Traceback (most recent call last):\n",
            "  File \"main.py\", line 68, in <module>\n",
            "    corpus = data.Corpus(args.data)\n",
            "  File \"/content/word-language-model/data.py\", line 23, in __init__\n",
            "    self.train = self.tokenize(os.path.join(path, 'train.txt'))\n",
            "  File \"/content/word-language-model/data.py\", line 29, in tokenize\n",
            "    assert os.path.exists(path)\n",
            "AssertionError\n"
          ],
          "name": "stdout"
        }
      ]
    },
    {
      "cell_type": "code",
      "metadata": {
        "id": "gNt9mG4dms6l"
      },
      "source": [
        "!python main.py --cuda --epochs 30 --emsize 1500 --nhid 2000 --nlayers 2 --dropout 0.65 --model FeedForward --data ../data/autshumato/"
      ],
      "execution_count": null,
      "outputs": []
    },
    {
      "cell_type": "code",
      "metadata": {
        "id": "iBajtUErrY_a"
      },
      "source": [
        "!python main.py --cuda --epochs 30 --emsize 1500 --nhid 1500 --nlayers 2 --dropout 0.35 --model FeedForward --data ../data/autshumato/"
      ],
      "execution_count": null,
      "outputs": []
    },
    {
      "cell_type": "code",
      "metadata": {
        "id": "353A9nfvrh0S"
      },
      "source": [
        "!python main.py --cuda --epochs 30 --emsize 2500 --nhid 1500 --nlayers 2 --dropout 0.35 --model FeedForward --data ../data/autshumato/"
      ],
      "execution_count": null,
      "outputs": []
    },
    {
      "cell_type": "code",
      "metadata": {
        "id": "vHVJXWLXrlaB"
      },
      "source": [
        "!python main.py --cuda --epochs 30 --emsize 1500 --nhid 1500 --nlayers 2 --dropout 0.25 --model FeedForward --data ../data/autshumato/"
      ],
      "execution_count": null,
      "outputs": []
    },
    {
      "cell_type": "code",
      "metadata": {
        "id": "ZYOCxFflPcZJ"
      },
      "source": [
        "!python main.py --cuda --epochs 50 --emsize 1500 --nhid 1500 --nlayers 3 --dropout 0.65 --model FeedForward --data ../data/autshumato/"
      ],
      "execution_count": null,
      "outputs": []
    },
    {
      "cell_type": "code",
      "metadata": {
        "id": "ioPU5oXCSeR_"
      },
      "source": [
        "!python main.py --cuda --epochs 50 --emsize 1500 --nhid 1500 --nlayers 1 --dropout 0.65 --model FeedForward --data ../data/autshumato/"
      ],
      "execution_count": null,
      "outputs": []
    },
    {
      "cell_type": "code",
      "metadata": {
        "id": "zCX7QWGdc88g"
      },
      "source": [
        "!python main.py --cuda --epochs 50 --emsize 1500 --nhid 1500 --nlayers 2 --dropout 0.75 --model FeedForward --data ../data/autshumato/"
      ],
      "execution_count": null,
      "outputs": []
    },
    {
      "cell_type": "code",
      "metadata": {
        "id": "fCDCG9p3rzHD"
      },
      "source": [
        "!python main.py --cuda --epochs 50 --emsize 1500 --nhid 1500 --nlayers 2 --dropout 0.55 --model FeedForward --data ../data/autshumato/"
      ],
      "execution_count": null,
      "outputs": []
    },
    {
      "cell_type": "code",
      "metadata": {
        "id": "pjYL7nwot52n"
      },
      "source": [
        "!python main.py --cuda --epochs 50 --emsize 1500 --nhid 1500 --nlayers 2 --dropout 0.45 --model FeedForward --data ../data/autshumato/"
      ],
      "execution_count": null,
      "outputs": []
    },
    {
      "cell_type": "code",
      "metadata": {
        "id": "XyiVAG1Qt8Z8"
      },
      "source": [
        "!python main.py --cuda --epochs 100 --emsize 1500 --nhid 1500 --nlayers 2 --dropout 0.65 --model FeedForward --data ../data/autshumato/"
      ],
      "execution_count": null,
      "outputs": []
    },
    {
      "cell_type": "code",
      "metadata": {
        "id": "InhlhvQMt-ci"
      },
      "source": [
        "!python main.py --cuda --epochs 50 --emsize 3000 --nhid 1500 --nlayers 2 --dropout 0.65 --model FeedForward --data ../data/autshumato/"
      ],
      "execution_count": null,
      "outputs": []
    },
    {
      "cell_type": "code",
      "metadata": {
        "id": "3yfyDXF4uFeO"
      },
      "source": [
        "!python main.py --cuda --epochs 50 --emsize 1500 --nhid 750 --nlayers 2 --dropout 0.65 --model FeedForward --data ../data/autshumato/"
      ],
      "execution_count": null,
      "outputs": []
    },
    {
      "cell_type": "code",
      "metadata": {
        "id": "d6XJnC0JuWUC"
      },
      "source": [
        "!python main.py --cuda --epochs 50 --emsize 1500 --nhid 1500 --nlayers 2 --dropout 0.65 --tied --model FeedForward --data ../data/autshumato/"
      ],
      "execution_count": null,
      "outputs": []
    },
    {
      "cell_type": "code",
      "metadata": {
        "id": "rBUvoS6Oufct"
      },
      "source": [
        "!python main.py --cuda --emsize 650 --nhid 650 --dropout 0.5 --epochs 40 --tied --model FeedForward --data ../data/autshumato/"
      ],
      "execution_count": null,
      "outputs": []
    },
    {
      "cell_type": "code",
      "metadata": {
        "id": "vTFkujYPumSt"
      },
      "source": [
        "!python main.py --cuda --emsize 650 --nhid 650 --dropout 0.5 --epochs 40 --model FeedForward --data ../data/autshumato/"
      ],
      "execution_count": null,
      "outputs": []
    },
    {
      "cell_type": "code",
      "metadata": {
        "id": "MR6PBKiRu2UO"
      },
      "source": [
        "!python main.py --cuda --epochs 50 --emsize 1500 --nhid 1500 --nlayers 1 --dropout 0.65 --tied --model FeedForward --data ../data/autshumato/"
      ],
      "execution_count": null,
      "outputs": []
    },
    {
      "cell_type": "code",
      "metadata": {
        "id": "b5aI9AQqvML1"
      },
      "source": [
        "!python main.py --cuda --epochs 50 --emsize 1500 --nhid 1500 --nlayers 1 --dropout 0.65 --bptt 70 --tied --model FeedForward --data ../data/autshumato/"
      ],
      "execution_count": null,
      "outputs": []
    },
    {
      "cell_type": "code",
      "metadata": {
        "id": "Xnq1krUwvRKh"
      },
      "source": [
        "!python main.py --cuda --epochs 50 --emsize 1500 --nhid 1500 --nlayers 1 --dropout 0.65 --bptt 70 --model FeedForward --data ../data/autshumato/"
      ],
      "execution_count": null,
      "outputs": []
    },
    {
      "cell_type": "code",
      "metadata": {
        "id": "xrjoZ3EMvWFD"
      },
      "source": [
        "!python main.py --cuda --epochs 50 --emsize 1500 --nhid 1500 --nlayers 1 --dropout 0.65 --bptt 140 --tied --model FeedForward --data ../data/autshumato/"
      ],
      "execution_count": null,
      "outputs": []
    },
    {
      "cell_type": "code",
      "metadata": {
        "id": "BT1zHtNlvYPG"
      },
      "source": [
        "!python main.py --cuda --epochs 50 --emsize 1500 --nhid 1500 --nlayers 1 --dropout 0.60 --bptt 70 --tied --model FeedForward --data ../data/autshumato/"
      ],
      "execution_count": null,
      "outputs": []
    },
    {
      "cell_type": "code",
      "metadata": {
        "id": "-o-Gq0szvbLx"
      },
      "source": [
        "!python main.py --cuda --epochs 50 --emsize 1500 --nhid 1500 --nlayers 1 --dropout 0.70 --bptt 70 --tied --model FeedForward --data ../data/autshumato/"
      ],
      "execution_count": null,
      "outputs": []
    },
    {
      "cell_type": "code",
      "metadata": {
        "id": "rBWBxM_fGoVK"
      },
      "source": [
        "!python main.py --cuda --epochs 50 --emsize 1500 --nhid 1500 --nlayers 1 --dropout 0.30 --bptt 70 --tied --model FeedForward --data ../data/autshumato/"
      ],
      "execution_count": null,
      "outputs": []
    },
    {
      "cell_type": "code",
      "metadata": {
        "id": "c6bDyd--HJZz"
      },
      "source": [
        "!python main.py --cuda --epochs 50 --emsize 1500 --nhid 1500 --nlayers 3 --dropout 0.65 --bptt 70 --tied --model FeedForward --data ../data/autshumato/"
      ],
      "execution_count": null,
      "outputs": []
    },
    {
      "cell_type": "code",
      "metadata": {
        "id": "LVEC3h9zHLmv"
      },
      "source": [
        "!python main.py --cuda --epochs 50 --emsize 1500 --nhid 1500 --nlayers 4 --dropout 0.65 --bptt 70 --tied --model FeedForward --data ../data/autshumato/"
      ],
      "execution_count": null,
      "outputs": []
    },
    {
      "cell_type": "code",
      "metadata": {
        "id": "KGXFJc-9QWdL"
      },
      "source": [
        "!python main.py --cuda --epochs 50 --emsize 1500 --nhid 1500 --nlayers 1 --dropout 0.70 --bptt 140 --tied --model FeedForward --data ../data/autshumato/\n"
      ],
      "execution_count": null,
      "outputs": []
    },
    {
      "cell_type": "code",
      "metadata": {
        "id": "NRTwJiUpSbaf"
      },
      "source": [
        "!python main.py --cuda --epochs 50 --emsize 1500 --nhid 1500 --nlayers 4 --dropout 0.55 --bptt 70 --tied --model FeedForward --data ../data/autshumato/"
      ],
      "execution_count": null,
      "outputs": []
    },
    {
      "cell_type": "code",
      "metadata": {
        "id": "Q_8d7aeUSeaw"
      },
      "source": [
        "!python main.py --cuda --epochs 50 --emsize 1500 --nhid 1500 --nlayers 4 --dropout 0.45 --bptt 70 --tied --model FeedForward --data ../data/autshumato/"
      ],
      "execution_count": null,
      "outputs": []
    },
    {
      "cell_type": "code",
      "metadata": {
        "id": "u-FDDiUiSf6w"
      },
      "source": [
        "!python main.py --cuda --epochs 50 --emsize 1500 --nhid 1500 --nlayers 4 --dropout 0.35 --bptt 70 --tied --model FeedForward --data ../data/autshumato/"
      ],
      "execution_count": null,
      "outputs": []
    },
    {
      "cell_type": "code",
      "metadata": {
        "id": "eM3AP_sLShR2"
      },
      "source": [
        "!python main.py --cuda --epochs 50 --emsize 1500 --nhid 1500 --nlayers 4 --dropout 0.75 --bptt 70 --tied --model FeedForward --data ../data/autshumato/"
      ],
      "execution_count": null,
      "outputs": []
    },
    {
      "cell_type": "code",
      "metadata": {
        "id": "fQ_2gTJYaI5o"
      },
      "source": [
        "!python main.py --cuda --epochs 50 --emsize 1500 --nhid 1500 --nlayers 1 --dropout 0.70 --bptt 280 --tied --model FeedForward --data ../data/autshumato/"
      ],
      "execution_count": null,
      "outputs": []
    },
    {
      "cell_type": "code",
      "metadata": {
        "id": "6oBKbplpaK3x"
      },
      "source": [
        "!python main.py --cuda --epochs 50 --emsize 1500 --nhid 1500 --nlayers 1 --dropout 0.70 --bptt 560 --tied --model FeedForward --data ../data/autshumato/"
      ],
      "execution_count": null,
      "outputs": []
    },
    {
      "cell_type": "code",
      "metadata": {
        "id": "zdSZMB2lkRwC"
      },
      "source": [
        "!python main.py --cuda --epochs 25 --emsize 1500 --nhid 1500 --nlayers 1 --dropout 0.70 --bptt 280 --tied --model FeedForward --data ../data/autshumato/"
      ],
      "execution_count": null,
      "outputs": []
    },
    {
      "cell_type": "code",
      "metadata": {
        "id": "0PA6KlN3kXaQ"
      },
      "source": [
        "!python main.py --cuda --epochs 75 --emsize 1500 --nhid 1500 --nlayers 1 --dropout 0.70 --bptt 280 --tied --model FeedForward --data ../data/autshumato/"
      ],
      "execution_count": null,
      "outputs": []
    },
    {
      "cell_type": "code",
      "metadata": {
        "id": "-E38KTK9l8lx"
      },
      "source": [
        "!python main.py --cuda --epochs 50 --emsize 1500 --nhid 1500 --nlayers 1 --dropout 0.75 --bptt 280 --tied --model FeedForward --data ../data/autshumato/"
      ],
      "execution_count": null,
      "outputs": []
    },
    {
      "cell_type": "code",
      "metadata": {
        "id": "V2oZYCjmT7gF"
      },
      "source": [
        "!python main.py --cuda --epochs 50 --emsize 1500 --nhid 1500 --nlayers 1 --dropout 0.65 --bptt 280 --tied --model FeedForward --data ../data/autshumato/"
      ],
      "execution_count": null,
      "outputs": []
    },
    {
      "cell_type": "code",
      "metadata": {
        "id": "tQREV994bvAJ"
      },
      "source": [
        "!python main.py --cuda --epochs 30 --emsize 1250 --nhid 1250 --nlayers 1 --dropout 0.70 --bptt 280 --tied --model FeedForward --data ../data/autshumato/"
      ],
      "execution_count": null,
      "outputs": []
    },
    {
      "cell_type": "code",
      "metadata": {
        "id": "qXgWgr4Xb56U"
      },
      "source": [
        "!python main.py --cuda --epochs 50 --emsize 1750 --nhid 1750 --nlayers 1 --dropout 0.70 --bptt 280 --tied --model FeedForward --data ../data/autshumato/"
      ],
      "execution_count": null,
      "outputs": []
    },
    {
      "cell_type": "code",
      "metadata": {
        "id": "UpsJEyQaxhoz"
      },
      "source": [
        "!python main.py --cuda --epochs 30 --emsize 1500 --nhid 1500 --nlayers 1 --dropout 0.70 --bptt 280 --tied --model FeedForward --data ../data/autshumato/"
      ],
      "execution_count": null,
      "outputs": []
    },
    {
      "cell_type": "code",
      "metadata": {
        "id": "osfxvFWl1I_g"
      },
      "source": [
        "!python main.py --cuda --epochs 50 --emsize 1500 --nhid 1500 --nlayers 1 --dropout 0.70 --bptt 280 --tied --model FeedForward --data ../data/autshumato/"
      ],
      "execution_count": null,
      "outputs": []
    },
    {
      "cell_type": "code",
      "metadata": {
        "id": "1x8WmTtf1Svo"
      },
      "source": [
        "!python main.py --cuda --epochs 75 --emsize 1500 --nhid 1500 --nlayers 1 --dropout 0.70 --bptt 280 --tied --model FeedForward --data ../data/autshumato/"
      ],
      "execution_count": null,
      "outputs": []
    },
    {
      "cell_type": "code",
      "metadata": {
        "id": "eb3fYIgLAHnW"
      },
      "source": [
        "!python main.py --cuda --epochs 50 --emsize 2000 --nhid 2000 --nlayers 1 --dropout 0.70 --bptt 280 --tied --model FeedForward --data ../data/autshumato/"
      ],
      "execution_count": null,
      "outputs": []
    },
    {
      "cell_type": "code",
      "metadata": {
        "id": "_TOb7_NyXGaD"
      },
      "source": [
        "!python main.py --cuda --epochs 50 --emsize 2500 --nhid 2500 --nlayers 1 --dropout 0.70 --bptt 280 --tied --model FeedForward --data ../data/autshumato/"
      ],
      "execution_count": null,
      "outputs": []
    },
    {
      "cell_type": "markdown",
      "metadata": {
        "id": "R2JsCr4PVF3-"
      },
      "source": [
        ""
      ]
    },
    {
      "cell_type": "code",
      "metadata": {
        "id": "0zk2ECBfXKXi"
      },
      "source": [
        "!python main.py --cuda --epochs 50 --emsize 1500 --nhid 2000 --nlayers 1 --dropout 0.70 --bptt 280 --model FeedForward --data ../data/autshumato/"
      ],
      "execution_count": null,
      "outputs": []
    },
    {
      "cell_type": "code",
      "metadata": {
        "id": "0BiQOZk7XOEg"
      },
      "source": [
        "!python main.py --cuda --epochs 50 --emsize 2000 --nhid 1500 --nlayers 1 --dropout 0.70 --bptt 280 --model FeedForward --data ../data/autshumato/"
      ],
      "execution_count": null,
      "outputs": []
    },
    {
      "cell_type": "code",
      "metadata": {
        "id": "BMNbbVzAXRHd"
      },
      "source": [
        "!python main.py --cuda --epochs 50 --emsize 1000 --nhid 2000 --nlayers 1 --dropout 0.70 --bptt 280 --model FeedForward --data ../data/autshumato/"
      ],
      "execution_count": null,
      "outputs": []
    },
    {
      "cell_type": "code",
      "metadata": {
        "id": "rfgQCCPDXS7b"
      },
      "source": [
        "!python main.py --cuda --epochs 50 --emsize 2000 --nhid 1000 --nlayers 1 --dropout 0.70 --bptt 280 --model FeedForward --data ../data/autshumato/"
      ],
      "execution_count": null,
      "outputs": []
    },
    {
      "cell_type": "code",
      "metadata": {
        "id": "Nw_VylJ4XV4a"
      },
      "source": [
        "!python main.py --cuda --epochs 50 --emsize 3000 --nhid 3000 --nlayers 1 --dropout 0.70 --tied --bptt 280 --model FeedForward --data ../data/autshumato/"
      ],
      "execution_count": null,
      "outputs": []
    },
    {
      "cell_type": "code",
      "metadata": {
        "id": "VSLoyiIc7iiz"
      },
      "source": [
        "!python main.py --cuda --epochs 50 --emsize 2000 --nhid 2000 --nlayers 1 --dropout 0.70 --bptt 280 --batch_size 10 --tied --model FeedForward --data ../data/autshumato/"
      ],
      "execution_count": null,
      "outputs": []
    },
    {
      "cell_type": "code",
      "metadata": {
        "id": "9VWWRRYx7rgl"
      },
      "source": [
        "!python main.py --cuda --epochs 50 --emsize 2000 --nhid 2000 --nlayers 1 --dropout 0.70 --bptt 280 --batch_size 30 --tied --model FeedForward --data ../data/autshumato/"
      ],
      "execution_count": null,
      "outputs": []
    },
    {
      "cell_type": "code",
      "metadata": {
        "id": "GP8Xm9Ho7uNS"
      },
      "source": [
        "!python main.py --cuda --epochs 50 --emsize 2000 --nhid 2000 --nlayers 1 --dropout 0.70 --bptt 280 --batch_size 40 --tied --model FeedForward --data ../data/autshumato/"
      ],
      "execution_count": null,
      "outputs": []
    },
    {
      "cell_type": "code",
      "metadata": {
        "id": "X4vH_RPzNxOP"
      },
      "source": [
        "!python main.py --cuda --epochs 50 --emsize 2000 --nhid 2000 --nlayers 1 --dropout 0.70 --bptt 280 --batch_size 5 --tied --model FeedForward --data ../data/autshumato/"
      ],
      "execution_count": null,
      "outputs": []
    },
    {
      "cell_type": "code",
      "metadata": {
        "id": "thea7f4aJe0d"
      },
      "source": [
        "!python main.py --cuda --epochs 50 --emsize 2000 --nhid 2000 --nlayers 1 --dropout 0.70 --bptt 280 --batch_size 10 --lr 10 --tied --model FeedForward --data ../data/autshumato/"
      ],
      "execution_count": null,
      "outputs": []
    },
    {
      "cell_type": "code",
      "metadata": {
        "id": "sANpB-ZOJj-E"
      },
      "source": [
        "!python main.py --cuda --epochs 50 --emsize 2000 --nhid 2000 --nlayers 1 --dropout 0.70 --bptt 280 --batch_size 10 --lr 5 --tied --model FeedForward --data ../data/autshumato/"
      ],
      "execution_count": null,
      "outputs": []
    },
    {
      "cell_type": "code",
      "metadata": {
        "id": "yp4zxkS-JmfE"
      },
      "source": [
        "!python main.py --cuda --epochs 50 --emsize 2000 --nhid 2000 --nlayers 1 --dropout 0.70 --bptt 280 --batch_size 10 --lr 30 --tied --model FeedForward --data ../data/autshumato/"
      ],
      "execution_count": null,
      "outputs": []
    },
    {
      "cell_type": "code",
      "metadata": {
        "id": "SAurxU0GJojh"
      },
      "source": [
        "!python main.py --cuda --epochs 50 --emsize 2000 --nhid 2000 --nlayers 1 --dropout 0.70 --bptt 280 --batch_size 10 --lr 40 --tied --model FeedForward --data ../data/autshumato/"
      ],
      "execution_count": null,
      "outputs": []
    },
    {
      "cell_type": "code",
      "metadata": {
        "id": "Y-CUKXA5lkFJ"
      },
      "source": [
        "!python main.py --cuda --epochs 50 --emsize 2000 --nhid 2000 --nlayers 1 --dropout 0.70 --bptt 280 --batch_size 10 --lr 10 --norder 1 --tied --model FeedForward --data ../data/autshumato/"
      ],
      "execution_count": null,
      "outputs": []
    },
    {
      "cell_type": "code",
      "metadata": {
        "id": "gZD5YV1vlsYe"
      },
      "source": [
        "!python main.py --cuda --epochs 50 --emsize 2000 --nhid 2000 --nlayers 1 --dropout 0.70 --bptt 280 --batch_size 10 --lr 10 --norder 3 --tied --model FeedForward --data ../data/autshumato/"
      ],
      "execution_count": null,
      "outputs": []
    },
    {
      "cell_type": "code",
      "metadata": {
        "id": "1mUNzRUMltpf"
      },
      "source": [
        "!python main.py --cuda --epochs 50 --emsize 2000 --nhid 2000 --nlayers 1 --dropout 0.70 --bptt 280 --batch_size 10 --lr 10 --norder 4 --tied --model FeedForward --data ../data/autshumato/"
      ],
      "execution_count": null,
      "outputs": []
    },
    {
      "cell_type": "code",
      "metadata": {
        "id": "l_M1YNMrluyx"
      },
      "source": [
        "!python main.py --cuda --epochs 50 --emsize 2000 --nhid 2000 --nlayers 1 --dropout 0.70 --bptt 280 --batch_size 10 --lr 10 --norder 5 --tied --model FeedForward --data ../data/autshumato/"
      ],
      "execution_count": null,
      "outputs": []
    },
    {
      "cell_type": "code",
      "metadata": {
        "id": "Xx3IEAGGlwY5"
      },
      "source": [
        "!python main.py --cuda --epochs 50 --emsize 2000 --nhid 2000 --nlayers 1 --dropout 0.70 --bptt 280 --batch_size 10 --lr 10 --norder 6 --tied --model FeedForward --data ../data/autshumato/"
      ],
      "execution_count": null,
      "outputs": []
    },
    {
      "cell_type": "code",
      "metadata": {
        "id": "_Jjhu17f-8I2"
      },
      "source": [
        "!python main.py --cuda --epochs 50 --emsize 2000 --nhid 2000 --nlayers 1 --dropout 0.70 --bptt 280 --batch_size 10 --lr 10 --norder 2 --tied --model FeedForward --data ../data/autshumato/"
      ],
      "execution_count": null,
      "outputs": []
    },
    {
      "cell_type": "code",
      "metadata": {
        "id": "_4W1vyifCN5q"
      },
      "source": [
        "!python main.py --cuda --emsize 650 --nhid 650 --dropout 0.5 --epochs 40 --tied --model FeedForward --data ../data/autshumato/"
      ],
      "execution_count": null,
      "outputs": []
    },
    {
      "cell_type": "code",
      "metadata": {
        "id": "E03wpp8cCPlc"
      },
      "source": [
        "!python main.py --cuda --emsize 650 --nhid 650 --dropout 0.5 --epochs 40 --norder 3 --tied --model FeedForward --data ../data/autshumato/"
      ],
      "execution_count": null,
      "outputs": []
    },
    {
      "cell_type": "code",
      "metadata": {
        "id": "YDJeoDi2PNZu"
      },
      "source": [
        "!python main.py --cuda --emsize 650 --nhid 650 --dropout 0.5 --epochs 40 --norder 4 --tied --model FeedForward --data ../data/autshumato/"
      ],
      "execution_count": null,
      "outputs": []
    },
    {
      "cell_type": "code",
      "metadata": {
        "id": "aS23ZfV9POi6"
      },
      "source": [
        "!python main.py --cuda --emsize 650 --nhid 650 --dropout 0.5 --epochs 40 --norder 5 --tied --model FeedForward --data ../data/autshumato/"
      ],
      "execution_count": null,
      "outputs": []
    },
    {
      "cell_type": "code",
      "metadata": {
        "id": "hZfNsQo6ai2Q"
      },
      "source": [
        "!python main.py --cuda --epochs 50 --emsize 2000 --nhid 2000 --nlayers 1 --dropout 0.70 --bptt 280 --batch_size 10 --lr 10 --norder 2 --tied --model FeedForward --data ../data/autshumato/"
      ],
      "execution_count": null,
      "outputs": []
    },
    {
      "cell_type": "code",
      "metadata": {
        "id": "d36Hyn4Qvn9H"
      },
      "source": [
        "!python main.py --cuda --epochs 50 --emsize 2000 --nhid 2000 --nlayers 1 --dropout 0.70 --bptt 280 --batch_size 10 --lr 10 --norder 1 --tied --model FeedForward --data ../data/autshumato/"
      ],
      "execution_count": null,
      "outputs": []
    },
    {
      "cell_type": "code",
      "metadata": {
        "id": "LDbLnJH8vpXp"
      },
      "source": [
        "!python main.py --cuda --epochs 50 --emsize 2000 --nhid 2000 --nlayers 1 --dropout 0.70 --bptt 280 --batch_size 10 --lr 10 --norder 3 --tied --model FeedForward --data ../data/autshumato/"
      ],
      "execution_count": null,
      "outputs": []
    },
    {
      "cell_type": "code",
      "metadata": {
        "id": "XPxYh-cj6dmI"
      },
      "source": [
        "!python main.py --cuda --epochs 50 --emsize 1000 --nhid 1000 --nlayers 1 --dropout 0.70 --bptt 280 --batch_size 10 --lr 20 --norder 4 --tied --model FeedForward --data ../data/autshumato/"
      ],
      "execution_count": null,
      "outputs": []
    },
    {
      "cell_type": "code",
      "metadata": {
        "id": "jWWBEcB6jEOG"
      },
      "source": [
        "!python main.py --cuda --epochs 50 --emsize 2000 --nhid 2000 --nlayers 1 --dropout 0.70 --bptt 280 --batch_size 10 --lr 10 --norder 5 --tied --model FeedForward --data ../data/autshumato/"
      ],
      "execution_count": null,
      "outputs": []
    },
    {
      "cell_type": "code",
      "metadata": {
        "id": "thtD9ZZywwXy"
      },
      "source": [
        "!python main.py --cuda --epochs 50 --emsize 2000 --nhid 2000 --nlayers 1 --dropout 0.60 --bptt 280 --batch_size 10 --lr 10 --norder 4 --tied --model FeedForward --data ../data/autshumato/"
      ],
      "execution_count": null,
      "outputs": []
    },
    {
      "cell_type": "code",
      "metadata": {
        "id": "xhvpJrvF4Z8P"
      },
      "source": [
        "!python main.py --cuda --epochs 50 --emsize 2000 --nhid 2000 --nlayers 2 --dropout 0.60 --bptt 280 --batch_size 10 --lr 10 --norder 4 --tied --model FeedForward --data ../data/autshumato/"
      ],
      "execution_count": null,
      "outputs": []
    },
    {
      "cell_type": "code",
      "metadata": {
        "id": "Cq0zl1BZ5JyM"
      },
      "source": [
        "!python main.py --cuda --epochs 40 --emsize 2000 --nhid 2000 --nlayers 1 --dropout 0.50 --bptt 280 --batch_size 10 --lr 20 --norder 5 --tied --model FeedForward --data ../data/autshumato/"
      ],
      "execution_count": null,
      "outputs": []
    },
    {
      "cell_type": "code",
      "metadata": {
        "id": "hXNwkHT95Z5b"
      },
      "source": [
        "!python main.py --cuda --epochs 40 --emsize 1000 --nhid 1000 --nlayers 1 --dropout 0.50 --bptt 280 --batch_size 10 --lr 20 --norder 5 --tied --model FeedForward --data ../data/autshumato/"
      ],
      "execution_count": null,
      "outputs": []
    },
    {
      "cell_type": "code",
      "metadata": {
        "id": "4m0Mt7Cc-CjD"
      },
      "source": [
        "!python main.py --cuda --epochs 40 --emsize 1000 --nhid 1000 --nlayers 1 --dropout 0.60 --bptt 280 --batch_size 10 --lr 20 --norder 5 --tied --model FeedForward --data ../data/autshumato/"
      ],
      "execution_count": null,
      "outputs": []
    },
    {
      "cell_type": "code",
      "metadata": {
        "id": "rM6Ln8-GApk5"
      },
      "source": [
        "!python main.py --cuda --epochs 40 --emsize 1000 --nhid 1000 --nlayers 1 --dropout 0.70 --bptt 280 --batch_size 10 --lr 20 --norder 5 --tied --model FeedForward --data ../data/autshumato/"
      ],
      "execution_count": null,
      "outputs": []
    },
    {
      "cell_type": "code",
      "metadata": {
        "id": "Rr1VauB0JShi"
      },
      "source": [
        "!python main.py --cuda --emsize 650 --nhid 650 --dropout 0.5 --epochs 40 --norder 5 --tied --model FeedForward --data ../data/autshumato/"
      ],
      "execution_count": null,
      "outputs": []
    },
    {
      "cell_type": "code",
      "metadata": {
        "id": "zxb30nAHJdGL"
      },
      "source": [
        "!python main.py --cuda --emsize 1500 --nhid 1500 --dropout 0.65 --epochs 40 --norder 5 --tied --model FeedForward --data ../data/autshumato/"
      ],
      "execution_count": null,
      "outputs": []
    },
    {
      "cell_type": "code",
      "metadata": {
        "id": "BzH49qYILAUb"
      },
      "source": [
        "!python main.py --cuda --epochs 40 --emsize 1000 --nhid 1000 --nlayers 1 --dropout 0.80 --bptt 280 --batch_size 10 --lr 20 --norder 5 --tied --model FeedForward --data ../data/autshumato/"
      ],
      "execution_count": null,
      "outputs": []
    },
    {
      "cell_type": "code",
      "metadata": {
        "id": "ed0F7lDbS8Xa"
      },
      "source": [
        "!python main.py --cuda --epochs 40 --emsize 750 --nhid 750 --nlayers 1 --dropout 0.70 --bptt 280 --batch_size 10 --lr 20 --norder 5 --tied --model FeedForward --data ../data/autshumato/"
      ],
      "execution_count": null,
      "outputs": []
    },
    {
      "cell_type": "code",
      "metadata": {
        "id": "pVSPy5_3S_7B"
      },
      "source": [
        "!python main.py --cuda --epochs 40 --emsize 1250 --nhid 1250 --nlayers 1 --dropout 0.70 --bptt 280 --batch_size 10 --lr 20 --norder 5 --tied --model FeedForward --data ../data/autshumato/"
      ],
      "execution_count": null,
      "outputs": []
    },
    {
      "cell_type": "code",
      "metadata": {
        "id": "bgKEhpWOWs15"
      },
      "source": [
        "!python main.py --cuda --epochs 50 --emsize 2000 --nhid 2000 --nlayers 1 --dropout 0.70 --bptt 280 --batch_size 10 --lr 10 --norder 5 --tied --model FeedForward --data ../data/autshumato/"
      ],
      "execution_count": null,
      "outputs": []
    },
    {
      "cell_type": "code",
      "metadata": {
        "id": "4YJM75hHWv1z"
      },
      "source": [
        "!python main.py --cuda --epochs 50 --emsize 2000 --nhid 2000 --nlayers 1 --dropout 0.70 --bptt 280 --batch_size 10 --lr 20 --norder 5 --tied --model FeedForward --data ../data/autshumato/"
      ],
      "execution_count": null,
      "outputs": []
    },
    {
      "cell_type": "code",
      "metadata": {
        "id": "npujU2qf2sx6"
      },
      "source": [
        "!python main.py --cuda --epochs 50 --emsize 2000 --nhid 2000 --nlayers 1 --dropout 0.70 --bptt 280 --batch_size 10 --lr 10 --norder 2 --tied --model FeedForward --data ./autshumato/"
      ],
      "execution_count": null,
      "outputs": []
    },
    {
      "cell_type": "code",
      "metadata": {
        "id": "PowcUGaC-24k"
      },
      "source": [
        "!python main.py --cuda --epochs 40 --emsize 1000 --nhid 1000 --nlayers 1 --dropout 0.50 --bptt 280 --batch_size 10 --lr 30 --norder 5 --tied --model FeedForward --data ../data/autshumato/"
      ],
      "execution_count": null,
      "outputs": []
    },
    {
      "cell_type": "code",
      "metadata": {
        "id": "Y6BVeARf-4cG"
      },
      "source": [
        "!python main.py --cuda --epochs 40 --emsize 1000 --nhid 1000 --nlayers 1 --dropout 0.70 --bptt 280 --batch_size 10 --lr 30 --norder 5 --tied --model FeedForward --data ../data/autshumato/"
      ],
      "execution_count": null,
      "outputs": []
    },
    {
      "cell_type": "code",
      "metadata": {
        "id": "v8jDcTn4_Rh_"
      },
      "source": [
        "!python main.py --cuda --epochs 40 --emsize 650 --nhid 650 --nlayers 1 --dropout 0.4 --bptt 280 --batch_size 10 --lr 20 --norder 5 --tied --model FeedForward --data ../data/autshumato/"
      ],
      "execution_count": null,
      "outputs": []
    }
  ]
}